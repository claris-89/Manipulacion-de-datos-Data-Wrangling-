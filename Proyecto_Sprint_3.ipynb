{
 "cells": [
  {
   "cell_type": "markdown",
   "id": "f6a4442b",
   "metadata": {},
   "source": [
    "¡Hola!\n",
    "\n",
    "Mi nombre es Tonatiuh Cruz. Me complace revisar tu proyecto hoy.\n",
    "\n",
    "Al identificar cualquier error inicialmente, simplemente los destacaré. Te animo a localizar y abordar los problemas de forma independiente como parte de tu preparación para un rol como data-scientist. En un entorno profesional, tu líder de equipo seguiría un enfoque similar. Si encuentras la tarea desafiante, proporcionaré una pista más específica en la próxima iteración.\n",
    "\n",
    "Encontrarás mis comentarios a continuación - **por favor no los muevas, modifiques o elimines**.\n",
    "\n",
    "Puedes encontrar mis comentarios en cajas verdes, amarillas o rojas como esta:\n",
    "\n",
    "<div class=\"alert alert-block alert-success\">\n",
    "<b>Comentario del revisor</b> <a class=\"tocSkip\"></a>\n",
    "\n",
    "Éxito. Todo está hecho correctamente.\n",
    "</div>\n",
    "\n",
    "<div class=\"alert alert-block alert-warning\">\n",
    "<b>Comentario del revisor</b> <a class=\"tocSkip\"></a>\n",
    "\n",
    "Observaciones. Algunas recomendaciones.\n",
    "</div>\n",
    "\n",
    "<div class=\"alert alert-block alert-danger\">\n",
    "<b>Comentario del revisor</b> <a class=\"tocSkip\"></a>\n",
    "\n",
    "Necesita corrección. El bloque requiere algunas correcciones. El trabajo no puede ser aceptado con comentarios en rojo.\n",
    "</div>\n",
    "\n",
    "Puedes responderme utilizando esto:\n",
    "\n",
    "<div class=\"alert alert-block alert-info\">\n",
    "<b>Respuesta del estudiante.</b> <a class=\"tocSkip\"></a>\n",
    "</div>"
   ]
  },
  {
   "cell_type": "markdown",
   "id": "3Xg_RQfnafXz",
   "metadata": {
    "id": "3Xg_RQfnafXz"
   },
   "source": [
    "# ¡Llena ese carrito!"
   ]
  },
  {
   "cell_type": "markdown",
   "id": "mhIvmmkW414q",
   "metadata": {
    "id": "mhIvmmkW414q"
   },
   "source": [
    "# Introducción\n",
    "\n",
    "Instacart es una plataforma de entregas de comestibles donde la clientela puede registrar un pedido y hacer que se lo entreguen, similar a Uber Eats y Door Dash.\n",
    "El conjunto de datos que te hemos proporcionado tiene modificaciones del original. Redujimos el tamaño del conjunto para que tus cálculos se hicieran más rápido e introdujimos valores ausentes y duplicados. Tuvimos cuidado de conservar las distribuciones de los datos originales cuando hicimos los cambios.\n",
    "\n",
    "Debes completar tres pasos. Para cada uno de ellos, escribe una breve introducción que refleje con claridad cómo pretendes resolver cada paso, y escribe párrafos explicatorios que justifiquen tus decisiones al tiempo que avanzas en tu solución.  También escribe una conclusión que resuma tus hallazgos y elecciones.\n"
   ]
  },
  {
   "cell_type": "markdown",
   "id": "3MbyzpOQZ5Or",
   "metadata": {
    "id": "3MbyzpOQZ5Or"
   },
   "source": [
    "## Diccionario de datos\n",
    "\n",
    "Hay cinco tablas en el conjunto de datos, y tendrás que usarlas todas para hacer el preprocesamiento de datos y el análisis exploratorio de datos. A continuación se muestra un diccionario de datos que enumera las columnas de cada tabla y describe los datos que contienen.\n",
    "\n",
    "- `instacart_orders.csv`: cada fila corresponde a un pedido en la aplicación Instacart.\n",
    "    - `'order_id'`: número de ID que identifica de manera única cada pedido.\n",
    "    - `'user_id'`: número de ID que identifica de manera única la cuenta de cada cliente.\n",
    "    - `'order_number'`: el número de veces que este cliente ha hecho un pedido.\n",
    "    - `'order_dow'`: día de la semana en que se hizo el pedido (0 si es domingo).\n",
    "    - `'order_hour_of_day'`: hora del día en que se hizo el pedido.\n",
    "    - `'days_since_prior_order'`: número de días transcurridos desde que este cliente hizo su pedido anterior.\n",
    "- `products.csv`: cada fila corresponde a un producto único que pueden comprar los clientes.\n",
    "    - `'product_id'`: número ID que identifica de manera única cada producto.\n",
    "    - `'product_name'`: nombre del producto.\n",
    "    - `'aisle_id'`: número ID que identifica de manera única cada categoría de pasillo de víveres.\n",
    "    - `'department_id'`: número ID que identifica de manera única cada departamento de víveres.\n",
    "- `order_products.csv`: cada fila corresponde a un artículo pedido en un pedido.\n",
    "    - `'order_id'`: número de ID que identifica de manera única cada pedido.\n",
    "    - `'product_id'`: número ID que identifica de manera única cada producto.\n",
    "    - `'add_to_cart_order'`: el orden secuencial en el que se añadió cada artículo en el carrito.\n",
    "    - `'reordered'`: 0 si el cliente nunca ha pedido este producto antes, 1 si lo ha pedido.\n",
    "- `aisles.csv`\n",
    "    - `'aisle_id'`: número ID que identifica de manera única cada categoría de pasillo de víveres.\n",
    "    - `'aisle'`: nombre del pasillo.\n",
    "- `departments.csv`\n",
    "    - `'department_id'`: número ID que identifica de manera única cada departamento de víveres.\n",
    "    - `'department'`: nombre del departamento."
   ]
  },
  {
   "cell_type": "markdown",
   "id": "n3Ha_cNSZ8lK",
   "metadata": {
    "id": "n3Ha_cNSZ8lK"
   },
   "source": [
    "# Paso 1. Descripción de los datos\n",
    "\n",
    "Lee los archivos de datos (`/datasets/instacart_orders.csv`, `/datasets/products.csv`, `/datasets/aisles.csv`, `/datasets/departments.csv` y `/datasets/order_products.csv`) con `pd.read_csv()` usando los parámetros adecuados para leer los datos correctamente. Verifica la información para cada DataFrame creado.\n"
   ]
  },
  {
   "cell_type": "markdown",
   "id": "OmlQPLlyaAfR",
   "metadata": {
    "id": "OmlQPLlyaAfR"
   },
   "source": [
    "## Plan de solución\n",
    "\n",
    "Escribe aquí tu plan de solución para el Paso 1. Descripción de los datos.\n",
    "\n",
    "Primero que nada hay que mandar llamar a la librería pandas para poder leer los archivos csv mediante el método read_csv(), este recibe como argumento la ruta donde se encuentran los archivos csv, al abrir cada uno de los archivos csv se puede observar que todos los datos vienen separados por punto y coma,  por lo cual es necesario usar argumento sep = ‘;’ en read_csv() para indicar a pandas que este es el delimitador del archivo, después se usa el método info() que mostrará la información general de toda la tabla. Este muestra número de filas, número de columnas, nombre de cada columna, número de valores que están ausentes y el tipo de datos de cada columna. También será necesario hacer uso de matplotlib que servirá para crear las gráficas en los ejercicios. "
   ]
  },
  {
   "cell_type": "code",
   "execution_count": 62,
   "id": "fbf1adab",
   "metadata": {
    "id": "fbf1adab"
   },
   "outputs": [],
   "source": [
    "import pandas as pd # importar librería pandas\n",
    "from matplotlib import pyplot as plt # importar librería para crear gráficos"
   ]
  },
  {
   "cell_type": "code",
   "execution_count": 63,
   "id": "ad36396d",
   "metadata": {
    "id": "ad36396d"
   },
   "outputs": [],
   "source": [
    "# Leer conjuntos de datos en los DataFrames, al abrir los conjuntos de datos se observa que todos vienen separados por punto y coma ;\n",
    "# Por esta razón en todos se esta usando el parametro sep = ';' para especificar a pandas que ese es el delimitador.\n",
    "df_instacart_orders = pd.read_csv('/datasets/instacart_orders.csv', sep=';') # Lectura df instacart_orders.csv\n",
    "df_products = pd.read_csv('/datasets/products.csv', sep=';') # Lectura df instacart_orders.csv\n",
    "df_aisles = pd.read_csv('/datasets/aisles.csv', sep=';') # Lectura df aisles.csv\n",
    "df_departments = pd.read_csv('/datasets/departments.csv', sep=';') # Lectura df departments.csv\n",
    "df_order_products = pd.read_csv('/datasets/order_products.csv', sep=';') # Lectura df order_products.csv"
   ]
  },
  {
   "cell_type": "markdown",
   "id": "a25c1db0",
   "metadata": {},
   "source": [
    "<div class=\"alert alert-block alert-success\">\n",
    "<b>Comentario del revisor:</b> <a class=\"tocSkip\"></a>\n",
    "    \n",
    "Has realizado un excelente trabajo al importar los datos y las bibliotecas necesarias.\n",
    "\n",
    "</div>"
   ]
  },
  {
   "cell_type": "code",
   "execution_count": 64,
   "id": "ad6a1efa",
   "metadata": {
    "id": "ad6a1efa"
   },
   "outputs": [
    {
     "name": "stdout",
     "output_type": "stream",
     "text": [
      "<class 'pandas.core.frame.DataFrame'>\n",
      "RangeIndex: 478967 entries, 0 to 478966\n",
      "Data columns (total 6 columns):\n",
      " #   Column                  Non-Null Count   Dtype  \n",
      "---  ------                  --------------   -----  \n",
      " 0   order_id                478967 non-null  int64  \n",
      " 1   user_id                 478967 non-null  int64  \n",
      " 2   order_number            478967 non-null  int64  \n",
      " 3   order_dow               478967 non-null  int64  \n",
      " 4   order_hour_of_day       478967 non-null  int64  \n",
      " 5   days_since_prior_order  450148 non-null  float64\n",
      "dtypes: float64(1), int64(5)\n",
      "memory usage: 21.9 MB\n"
     ]
    }
   ],
   "source": [
    "# mostrar información del DataFrame instacart_orders\n",
    "df_instacart_orders.info()"
   ]
  },
  {
   "cell_type": "code",
   "execution_count": 65,
   "id": "5130e05e",
   "metadata": {
    "id": "5130e05e"
   },
   "outputs": [
    {
     "name": "stdout",
     "output_type": "stream",
     "text": [
      "<class 'pandas.core.frame.DataFrame'>\n",
      "RangeIndex: 49694 entries, 0 to 49693\n",
      "Data columns (total 4 columns):\n",
      " #   Column         Non-Null Count  Dtype \n",
      "---  ------         --------------  ----- \n",
      " 0   product_id     49694 non-null  int64 \n",
      " 1   product_name   48436 non-null  object\n",
      " 2   aisle_id       49694 non-null  int64 \n",
      " 3   department_id  49694 non-null  int64 \n",
      "dtypes: int64(3), object(1)\n",
      "memory usage: 1.5+ MB\n"
     ]
    }
   ],
   "source": [
    "# mostrar información del DataFrame products\n",
    "df_products.info()"
   ]
  },
  {
   "cell_type": "code",
   "execution_count": 66,
   "id": "d8370c05",
   "metadata": {
    "id": "d8370c05"
   },
   "outputs": [
    {
     "name": "stdout",
     "output_type": "stream",
     "text": [
      "<class 'pandas.core.frame.DataFrame'>\n",
      "RangeIndex: 134 entries, 0 to 133\n",
      "Data columns (total 2 columns):\n",
      " #   Column    Non-Null Count  Dtype \n",
      "---  ------    --------------  ----- \n",
      " 0   aisle_id  134 non-null    int64 \n",
      " 1   aisle     134 non-null    object\n",
      "dtypes: int64(1), object(1)\n",
      "memory usage: 2.2+ KB\n"
     ]
    }
   ],
   "source": [
    "# mostrar información del DataFrame aisles\n",
    "df_aisles.info()"
   ]
  },
  {
   "cell_type": "code",
   "execution_count": 67,
   "id": "59e2090f",
   "metadata": {
    "id": "59e2090f"
   },
   "outputs": [
    {
     "name": "stdout",
     "output_type": "stream",
     "text": [
      "<class 'pandas.core.frame.DataFrame'>\n",
      "RangeIndex: 21 entries, 0 to 20\n",
      "Data columns (total 2 columns):\n",
      " #   Column         Non-Null Count  Dtype \n",
      "---  ------         --------------  ----- \n",
      " 0   department_id  21 non-null     int64 \n",
      " 1   department     21 non-null     object\n",
      "dtypes: int64(1), object(1)\n",
      "memory usage: 464.0+ bytes\n"
     ]
    }
   ],
   "source": [
    "# mostrar información del DataFrame departments\n",
    "df_departments.info()"
   ]
  },
  {
   "cell_type": "code",
   "execution_count": 68,
   "id": "6fc81694",
   "metadata": {
    "id": "6fc81694"
   },
   "outputs": [
    {
     "name": "stdout",
     "output_type": "stream",
     "text": [
      "<class 'pandas.core.frame.DataFrame'>\n",
      "RangeIndex: 4545007 entries, 0 to 4545006\n",
      "Data columns (total 4 columns):\n",
      " #   Column             Non-Null Count    Dtype  \n",
      "---  ------             --------------    -----  \n",
      " 0   order_id           4545007 non-null  int64  \n",
      " 1   product_id         4545007 non-null  int64  \n",
      " 2   add_to_cart_order  4544171 non-null  float64\n",
      " 3   reordered          4545007 non-null  int64  \n",
      "dtypes: float64(1), int64(3)\n",
      "memory usage: 138.7 MB\n"
     ]
    }
   ],
   "source": [
    "# mostrar información del DataFrame order_products\n",
    "df_order_products.info(show_counts=True)"
   ]
  },
  {
   "cell_type": "markdown",
   "id": "t75BD19oaR5f",
   "metadata": {
    "id": "t75BD19oaR5f"
   },
   "source": [
    "## Conclusiones\n",
    "\n",
    "Escribe aquí tus conclusiones intermedias sobre el Paso 1. Descripción de los datos.\n",
    "\n",
    "Una vez revisada la información con el método info() en cada uno de los conjuntos de datos se puede observar que todos los id 's son un tipo de datos int64, esto funciona para continuar con el procesamiento de los datos. Se puede observar también que algunos de los nombres de algunas columnas no describen claramente los datos que almacenan, por ello será necesario renombrarlas apropiadamente para entender los datos que almacenan. Así mismo, también se puede observar que algunos de los tipos de datos en las columnas no son convenientes para poder trabajar con ellos, de igual modo será necesario realizar cambios en esta parte."
   ]
  },
  {
   "cell_type": "markdown",
   "id": "8RJHqxVmaVsF",
   "metadata": {
    "id": "8RJHqxVmaVsF"
   },
   "source": [
    "# Paso 2. Preprocesamiento de los datos\n",
    "\n",
    "Preprocesa los datos de la siguiente manera:\n",
    "\n",
    "- Verifica y corrige los tipos de datos (por ejemplo, asegúrate de que las columnas de ID sean números enteros).\n",
    "- Identifica y completa los valores ausentes.\n",
    "- Identifica y elimina los valores duplicados.\n",
    "\n",
    "Asegúrate de explicar qué tipos de valores ausentes y duplicados encontraste, cómo los completaste o eliminaste y por qué usaste esos métodos. ¿Por qué crees que estos valores ausentes y duplicados pueden haber estado presentes en el conjunto de datos?"
   ]
  },
  {
   "cell_type": "markdown",
   "id": "p6poABZQaZYb",
   "metadata": {
    "id": "p6poABZQaZYb"
   },
   "source": [
    "## Plan de solución\n",
    "\n",
    "Escribe aquí tu plan para el Paso 2. Preprocesamiento de los datos.\n",
    "\n",
    "En el conjunto de datos instacart_orders se puede destacar que order_hour_of_day es conveniente convertirlo a tipo de dato datetime, en la columna days_since_prior_order a un tipo int64 y también se puede observar que existen valores ausentes. Para el conjunto de datos products. csv en la columna product_name existen valores ausentes. En el conjunto de datos aisles.csv es adecuado cambiar el nombre de la columna aisle por aisle_name para entender qué datos guarda, al igual que en el conjunto departments.csv renombrar la columna department por department_name. Por último en el conjunto order_products.csv es conveniente cambiar el tipo de datos para la columna add_to_cart_order por int64, así mismo en esta columna se puede observar que existen valores ausentes. De igual modo se debe revisar cuántos valores duplicados existen en cada uno de los conjuntos de datos y eliminarlos."
   ]
  },
  {
   "cell_type": "markdown",
   "id": "07357848-dc64-4156-9cc3-01ff4365226d",
   "metadata": {
    "id": "07357848-dc64-4156-9cc3-01ff4365226d"
   },
   "source": [
    "## Encuentra y elimina los valores duplicados (y describe cómo tomaste tus decisiones)."
   ]
  },
  {
   "cell_type": "markdown",
   "id": "f179f0a9",
   "metadata": {
    "id": "f179f0a9"
   },
   "source": [
    "### `orders` data frame"
   ]
  },
  {
   "cell_type": "code",
   "execution_count": 69,
   "id": "b99297a5-405a-463d-8535-9adc3da4ad74",
   "metadata": {
    "id": "b99297a5-405a-463d-8535-9adc3da4ad74"
   },
   "outputs": [
    {
     "name": "stdout",
     "output_type": "stream",
     "text": [
      "Total de pedidos duplicados:  15\n"
     ]
    },
    {
     "data": {
      "text/html": [
       "<div>\n",
       "<style scoped>\n",
       "    .dataframe tbody tr th:only-of-type {\n",
       "        vertical-align: middle;\n",
       "    }\n",
       "\n",
       "    .dataframe tbody tr th {\n",
       "        vertical-align: top;\n",
       "    }\n",
       "\n",
       "    .dataframe thead th {\n",
       "        text-align: right;\n",
       "    }\n",
       "</style>\n",
       "<table border=\"1\" class=\"dataframe\">\n",
       "  <thead>\n",
       "    <tr style=\"text-align: right;\">\n",
       "      <th></th>\n",
       "      <th>order_id</th>\n",
       "      <th>user_id</th>\n",
       "      <th>order_number</th>\n",
       "      <th>order_dow</th>\n",
       "      <th>order_hour_of_day</th>\n",
       "      <th>days_since_prior_order</th>\n",
       "    </tr>\n",
       "  </thead>\n",
       "  <tbody>\n",
       "    <tr>\n",
       "      <th>145574</th>\n",
       "      <td>794638</td>\n",
       "      <td>50898</td>\n",
       "      <td>24</td>\n",
       "      <td>3</td>\n",
       "      <td>2</td>\n",
       "      <td>2.0</td>\n",
       "    </tr>\n",
       "    <tr>\n",
       "      <th>223105</th>\n",
       "      <td>2160484</td>\n",
       "      <td>107525</td>\n",
       "      <td>16</td>\n",
       "      <td>3</td>\n",
       "      <td>2</td>\n",
       "      <td>30.0</td>\n",
       "    </tr>\n",
       "    <tr>\n",
       "      <th>230807</th>\n",
       "      <td>1918001</td>\n",
       "      <td>188546</td>\n",
       "      <td>14</td>\n",
       "      <td>3</td>\n",
       "      <td>2</td>\n",
       "      <td>16.0</td>\n",
       "    </tr>\n",
       "    <tr>\n",
       "      <th>266232</th>\n",
       "      <td>1782114</td>\n",
       "      <td>106752</td>\n",
       "      <td>1</td>\n",
       "      <td>3</td>\n",
       "      <td>2</td>\n",
       "      <td>NaN</td>\n",
       "    </tr>\n",
       "    <tr>\n",
       "      <th>273805</th>\n",
       "      <td>1112182</td>\n",
       "      <td>202304</td>\n",
       "      <td>84</td>\n",
       "      <td>3</td>\n",
       "      <td>2</td>\n",
       "      <td>6.0</td>\n",
       "    </tr>\n",
       "    <tr>\n",
       "      <th>284038</th>\n",
       "      <td>2845099</td>\n",
       "      <td>31189</td>\n",
       "      <td>11</td>\n",
       "      <td>3</td>\n",
       "      <td>2</td>\n",
       "      <td>7.0</td>\n",
       "    </tr>\n",
       "    <tr>\n",
       "      <th>311713</th>\n",
       "      <td>1021560</td>\n",
       "      <td>53767</td>\n",
       "      <td>3</td>\n",
       "      <td>3</td>\n",
       "      <td>2</td>\n",
       "      <td>9.0</td>\n",
       "    </tr>\n",
       "    <tr>\n",
       "      <th>321100</th>\n",
       "      <td>408114</td>\n",
       "      <td>68324</td>\n",
       "      <td>4</td>\n",
       "      <td>3</td>\n",
       "      <td>2</td>\n",
       "      <td>18.0</td>\n",
       "    </tr>\n",
       "    <tr>\n",
       "      <th>323900</th>\n",
       "      <td>1919531</td>\n",
       "      <td>191501</td>\n",
       "      <td>32</td>\n",
       "      <td>3</td>\n",
       "      <td>2</td>\n",
       "      <td>7.0</td>\n",
       "    </tr>\n",
       "    <tr>\n",
       "      <th>345917</th>\n",
       "      <td>2232988</td>\n",
       "      <td>82565</td>\n",
       "      <td>1</td>\n",
       "      <td>3</td>\n",
       "      <td>2</td>\n",
       "      <td>NaN</td>\n",
       "    </tr>\n",
       "    <tr>\n",
       "      <th>371905</th>\n",
       "      <td>391768</td>\n",
       "      <td>57671</td>\n",
       "      <td>19</td>\n",
       "      <td>3</td>\n",
       "      <td>2</td>\n",
       "      <td>10.0</td>\n",
       "    </tr>\n",
       "    <tr>\n",
       "      <th>394347</th>\n",
       "      <td>467134</td>\n",
       "      <td>63189</td>\n",
       "      <td>21</td>\n",
       "      <td>3</td>\n",
       "      <td>2</td>\n",
       "      <td>2.0</td>\n",
       "    </tr>\n",
       "    <tr>\n",
       "      <th>411408</th>\n",
       "      <td>1286742</td>\n",
       "      <td>183220</td>\n",
       "      <td>48</td>\n",
       "      <td>3</td>\n",
       "      <td>2</td>\n",
       "      <td>4.0</td>\n",
       "    </tr>\n",
       "    <tr>\n",
       "      <th>415163</th>\n",
       "      <td>2282673</td>\n",
       "      <td>86751</td>\n",
       "      <td>49</td>\n",
       "      <td>3</td>\n",
       "      <td>2</td>\n",
       "      <td>2.0</td>\n",
       "    </tr>\n",
       "    <tr>\n",
       "      <th>441599</th>\n",
       "      <td>2125197</td>\n",
       "      <td>14050</td>\n",
       "      <td>48</td>\n",
       "      <td>3</td>\n",
       "      <td>2</td>\n",
       "      <td>3.0</td>\n",
       "    </tr>\n",
       "  </tbody>\n",
       "</table>\n",
       "</div>"
      ],
      "text/plain": [
       "        order_id  user_id  order_number  order_dow  order_hour_of_day  \\\n",
       "145574    794638    50898            24          3                  2   \n",
       "223105   2160484   107525            16          3                  2   \n",
       "230807   1918001   188546            14          3                  2   \n",
       "266232   1782114   106752             1          3                  2   \n",
       "273805   1112182   202304            84          3                  2   \n",
       "284038   2845099    31189            11          3                  2   \n",
       "311713   1021560    53767             3          3                  2   \n",
       "321100    408114    68324             4          3                  2   \n",
       "323900   1919531   191501            32          3                  2   \n",
       "345917   2232988    82565             1          3                  2   \n",
       "371905    391768    57671            19          3                  2   \n",
       "394347    467134    63189            21          3                  2   \n",
       "411408   1286742   183220            48          3                  2   \n",
       "415163   2282673    86751            49          3                  2   \n",
       "441599   2125197    14050            48          3                  2   \n",
       "\n",
       "        days_since_prior_order  \n",
       "145574                     2.0  \n",
       "223105                    30.0  \n",
       "230807                    16.0  \n",
       "266232                     NaN  \n",
       "273805                     6.0  \n",
       "284038                     7.0  \n",
       "311713                     9.0  \n",
       "321100                    18.0  \n",
       "323900                     7.0  \n",
       "345917                     NaN  \n",
       "371905                    10.0  \n",
       "394347                     2.0  \n",
       "411408                     4.0  \n",
       "415163                     2.0  \n",
       "441599                     3.0  "
      ]
     },
     "execution_count": 69,
     "metadata": {},
     "output_type": "execute_result"
    }
   ],
   "source": [
    "# Revisa si hay pedidos duplicados, con los métodos duplicated().sum() para saber si hay y cuántos son\n",
    "print('Total de pedidos duplicados: ', df_instacart_orders.duplicated().sum())\n",
    "df_instacart_orders[df_instacart_orders.duplicated()]"
   ]
  },
  {
   "cell_type": "markdown",
   "id": "PEkwUX_gvt5A",
   "metadata": {
    "id": "PEkwUX_gvt5A"
   },
   "source": [
    "¿Tienes líneas duplicadas? Si sí, ¿qué tienen en común? Si hay duplicados, lo que tienen en común es que todos los pedidos se realizaron el día miércoles a la misma hora."
   ]
  },
  {
   "cell_type": "code",
   "execution_count": 70,
   "id": "0d44de5d",
   "metadata": {
    "id": "0d44de5d"
   },
   "outputs": [
    {
     "data": {
      "text/html": [
       "<div>\n",
       "<style scoped>\n",
       "    .dataframe tbody tr th:only-of-type {\n",
       "        vertical-align: middle;\n",
       "    }\n",
       "\n",
       "    .dataframe tbody tr th {\n",
       "        vertical-align: top;\n",
       "    }\n",
       "\n",
       "    .dataframe thead th {\n",
       "        text-align: right;\n",
       "    }\n",
       "</style>\n",
       "<table border=\"1\" class=\"dataframe\">\n",
       "  <thead>\n",
       "    <tr style=\"text-align: right;\">\n",
       "      <th></th>\n",
       "      <th>order_id</th>\n",
       "      <th>user_id</th>\n",
       "      <th>order_number</th>\n",
       "      <th>order_dow</th>\n",
       "      <th>order_hour_of_day</th>\n",
       "      <th>days_since_prior_order</th>\n",
       "    </tr>\n",
       "  </thead>\n",
       "  <tbody>\n",
       "    <tr>\n",
       "      <th>4838</th>\n",
       "      <td>2766110</td>\n",
       "      <td>162084</td>\n",
       "      <td>41</td>\n",
       "      <td>3</td>\n",
       "      <td>2</td>\n",
       "      <td>16.0</td>\n",
       "    </tr>\n",
       "    <tr>\n",
       "      <th>5156</th>\n",
       "      <td>2190225</td>\n",
       "      <td>138285</td>\n",
       "      <td>18</td>\n",
       "      <td>3</td>\n",
       "      <td>2</td>\n",
       "      <td>11.0</td>\n",
       "    </tr>\n",
       "    <tr>\n",
       "      <th>15506</th>\n",
       "      <td>553049</td>\n",
       "      <td>58599</td>\n",
       "      <td>13</td>\n",
       "      <td>3</td>\n",
       "      <td>2</td>\n",
       "      <td>7.0</td>\n",
       "    </tr>\n",
       "    <tr>\n",
       "      <th>18420</th>\n",
       "      <td>382357</td>\n",
       "      <td>120200</td>\n",
       "      <td>19</td>\n",
       "      <td>3</td>\n",
       "      <td>2</td>\n",
       "      <td>11.0</td>\n",
       "    </tr>\n",
       "    <tr>\n",
       "      <th>24691</th>\n",
       "      <td>690242</td>\n",
       "      <td>77357</td>\n",
       "      <td>2</td>\n",
       "      <td>3</td>\n",
       "      <td>2</td>\n",
       "      <td>9.0</td>\n",
       "    </tr>\n",
       "    <tr>\n",
       "      <th>...</th>\n",
       "      <td>...</td>\n",
       "      <td>...</td>\n",
       "      <td>...</td>\n",
       "      <td>...</td>\n",
       "      <td>...</td>\n",
       "      <td>...</td>\n",
       "    </tr>\n",
       "    <tr>\n",
       "      <th>457013</th>\n",
       "      <td>3384021</td>\n",
       "      <td>14881</td>\n",
       "      <td>6</td>\n",
       "      <td>3</td>\n",
       "      <td>2</td>\n",
       "      <td>30.0</td>\n",
       "    </tr>\n",
       "    <tr>\n",
       "      <th>458816</th>\n",
       "      <td>910166</td>\n",
       "      <td>164782</td>\n",
       "      <td>18</td>\n",
       "      <td>3</td>\n",
       "      <td>2</td>\n",
       "      <td>4.0</td>\n",
       "    </tr>\n",
       "    <tr>\n",
       "      <th>459635</th>\n",
       "      <td>1680532</td>\n",
       "      <td>106435</td>\n",
       "      <td>6</td>\n",
       "      <td>3</td>\n",
       "      <td>2</td>\n",
       "      <td>21.0</td>\n",
       "    </tr>\n",
       "    <tr>\n",
       "      <th>468324</th>\n",
       "      <td>222962</td>\n",
       "      <td>54979</td>\n",
       "      <td>59</td>\n",
       "      <td>3</td>\n",
       "      <td>2</td>\n",
       "      <td>3.0</td>\n",
       "    </tr>\n",
       "    <tr>\n",
       "      <th>477526</th>\n",
       "      <td>2592344</td>\n",
       "      <td>46860</td>\n",
       "      <td>38</td>\n",
       "      <td>3</td>\n",
       "      <td>2</td>\n",
       "      <td>3.0</td>\n",
       "    </tr>\n",
       "  </tbody>\n",
       "</table>\n",
       "<p>121 rows × 6 columns</p>\n",
       "</div>"
      ],
      "text/plain": [
       "        order_id  user_id  order_number  order_dow  order_hour_of_day  \\\n",
       "4838     2766110   162084            41          3                  2   \n",
       "5156     2190225   138285            18          3                  2   \n",
       "15506     553049    58599            13          3                  2   \n",
       "18420     382357   120200            19          3                  2   \n",
       "24691     690242    77357             2          3                  2   \n",
       "...          ...      ...           ...        ...                ...   \n",
       "457013   3384021    14881             6          3                  2   \n",
       "458816    910166   164782            18          3                  2   \n",
       "459635   1680532   106435             6          3                  2   \n",
       "468324    222962    54979            59          3                  2   \n",
       "477526   2592344    46860            38          3                  2   \n",
       "\n",
       "        days_since_prior_order  \n",
       "4838                      16.0  \n",
       "5156                      11.0  \n",
       "15506                      7.0  \n",
       "18420                     11.0  \n",
       "24691                      9.0  \n",
       "...                        ...  \n",
       "457013                    30.0  \n",
       "458816                     4.0  \n",
       "459635                    21.0  \n",
       "468324                     3.0  \n",
       "477526                     3.0  \n",
       "\n",
       "[121 rows x 6 columns]"
      ]
     },
     "execution_count": 70,
     "metadata": {},
     "output_type": "execute_result"
    }
   ],
   "source": [
    "# Basándote en tus hallazgos,verifica todos los pedidos que se hicieron el miércoles a las 2:00 a.m.\n",
    "# Se hace mediante un filtado del dataframe y el operador de comparación &\n",
    "df_instacart_orders[(df_instacart_orders['order_dow']==3) & (df_instacart_orders['order_hour_of_day'] == 2)]"
   ]
  },
  {
   "cell_type": "markdown",
   "id": "vu2OWyoqwOx5",
   "metadata": {
    "id": "vu2OWyoqwOx5"
   },
   "source": [
    "¿Qué sugiere este resultado?\n",
    "Este resultado sugiere que existen 121 órdenes que se realizaron el día miércoles a las 2:00 a.m. "
   ]
  },
  {
   "cell_type": "code",
   "execution_count": 71,
   "id": "480563c7",
   "metadata": {
    "id": "480563c7"
   },
   "outputs": [
    {
     "name": "stdout",
     "output_type": "stream",
     "text": [
      "        order_id  user_id  order_number  order_dow  order_hour_of_day  \\\n",
      "0        1515936   183418            11          6                 13   \n",
      "1        1690866   163593             5          5                 12   \n",
      "2        1454967    39980             4          5                 19   \n",
      "3        1768857    82516            56          0                 20   \n",
      "4        3007858   196724             2          4                 12   \n",
      "...          ...      ...           ...        ...                ...   \n",
      "478947   3210681     5617             5          1                 14   \n",
      "478948   3270802   112087             2          3                 13   \n",
      "478949    885349    82944            16          2                 11   \n",
      "478950    216274     4391             3          3                  8   \n",
      "478951   2071924     1730            18          1                 14   \n",
      "\n",
      "        days_since_prior_order  \n",
      "0                         30.0  \n",
      "1                          9.0  \n",
      "2                          2.0  \n",
      "3                         10.0  \n",
      "4                         17.0  \n",
      "...                        ...  \n",
      "478947                     7.0  \n",
      "478948                     6.0  \n",
      "478949                     6.0  \n",
      "478950                     8.0  \n",
      "478951                    15.0  \n",
      "\n",
      "[478952 rows x 6 columns]\n"
     ]
    }
   ],
   "source": [
    "# Elimina los pedidos duplicados, se esta usando el metodo drop_duplicates() junto reset_index(), \n",
    "# el argumento drop=True para reestablecer los indices y subset='order_id'para eliminar duplicados solo en esa columna.\n",
    "df_instacart_orders = df_instacart_orders.drop_duplicates(subset='order_id').reset_index(drop=True)\n",
    "print(df_instacart_orders)"
   ]
  },
  {
   "cell_type": "code",
   "execution_count": 72,
   "id": "0b2396a2",
   "metadata": {
    "id": "0b2396a2"
   },
   "outputs": [
    {
     "name": "stdout",
     "output_type": "stream",
     "text": [
      "Filas duplicadas:  0\n"
     ]
    }
   ],
   "source": [
    "# Vuelve a verificar si hay filas duplicadas\n",
    "print('Filas duplicadas: ', df_instacart_orders.duplicated().sum())"
   ]
  },
  {
   "cell_type": "code",
   "execution_count": 73,
   "id": "f6113ef1",
   "metadata": {
    "id": "f6113ef1"
   },
   "outputs": [
    {
     "name": "stdout",
     "output_type": "stream",
     "text": [
      "IDs duplicados de pedidos:  0\n"
     ]
    }
   ],
   "source": [
    "# Vuelve a verificar únicamente si hay IDs duplicados de pedidos\n",
    "print('IDs duplicados de pedidos: ', df_instacart_orders['order_id'].duplicated().sum())"
   ]
  },
  {
   "cell_type": "markdown",
   "id": "5e8905ae",
   "metadata": {
    "id": "5e8905ae"
   },
   "source": [
    "Describe brevemente tus hallazgos y lo que hiciste con ellos\n",
    "\n",
    "Se puede observar que después de haber aplicado el método drop_duplicates(), el argumento subset con el nombre de la columna order_id y  haciendo la reasignación al mismo conjunto de datos ya no aparecen filas ni ID’s de pedidos duplicados. "
   ]
  },
  {
   "cell_type": "markdown",
   "id": "776d3fac",
   "metadata": {},
   "source": [
    "<div class=\"alert alert-block alert-danger\">\n",
    "<b>Comentario del revisor</b> <a class=\"tocSkip\"></a>\n",
    "\n",
    "Muy buen análisis de duplicados. Pero cuando elimines los duplicados te sugiero escribirlo sobre la misma base de datos para que se quede guardado. \n",
    "</div>"
   ]
  },
  {
   "cell_type": "markdown",
   "id": "45e6bc46",
   "metadata": {
    "id": "45e6bc46"
   },
   "source": [
    "### `products` data frame"
   ]
  },
  {
   "cell_type": "code",
   "execution_count": 74,
   "id": "5f526b5b-8175-46fa-a0fd-441767d50e64",
   "metadata": {
    "id": "5f526b5b-8175-46fa-a0fd-441767d50e64"
   },
   "outputs": [
    {
     "data": {
      "text/plain": [
       "0"
      ]
     },
     "execution_count": 74,
     "metadata": {},
     "output_type": "execute_result"
    }
   ],
   "source": [
    "# Verifica si hay filas totalmente duplicadas\n",
    "df_products.duplicated().sum()"
   ]
  },
  {
   "cell_type": "code",
   "execution_count": 75,
   "id": "88daa4f4",
   "metadata": {
    "id": "88daa4f4"
   },
   "outputs": [
    {
     "data": {
      "text/plain": [
       "49673"
      ]
     },
     "execution_count": 75,
     "metadata": {},
     "output_type": "execute_result"
    }
   ],
   "source": [
    "# Revisa únicamente si hay ID de departamentos duplicados\n",
    "df_products['department_id'].duplicated().sum()"
   ]
  },
  {
   "cell_type": "code",
   "execution_count": 76,
   "id": "c773f0bf",
   "metadata": {
    "id": "c773f0bf"
   },
   "outputs": [
    {
     "name": "stdout",
     "output_type": "stream",
     "text": [
      "   product_id                                       product_name  aisle_id  \\\n",
      "0           1                         CHOCOLATE SANDWICH COOKIES        61   \n",
      "1           2                                   ALL-SEASONS SALT       104   \n",
      "2           3               ROBUST GOLDEN UNSWEETENED OOLONG TEA        94   \n",
      "3           4  SMART ONES CLASSIC FAVORITES MINI RIGATONI WIT...        38   \n",
      "4           5                          GREEN CHILE ANYTIME SAUCE         5   \n",
      "\n",
      "   department_id  \n",
      "0             19  \n",
      "1             13  \n",
      "2              7  \n",
      "3              1  \n",
      "4             13  \n"
     ]
    }
   ],
   "source": [
    "# Revisa únicamente si hay nombres duplicados de productos (convierte los nombres a letras mayúsculas para compararlos mejor)\n",
    "df_products['product_name'].duplicated().sum()\n",
    "df_products['product_name'] = df_products['product_name'].str.upper()\n",
    "print(df_products.head())"
   ]
  },
  {
   "cell_type": "code",
   "execution_count": 77,
   "id": "01efd02e",
   "metadata": {
    "id": "01efd02e"
   },
   "outputs": [
    {
     "name": "stdout",
     "output_type": "stream",
     "text": [
      "Nombres duplicados de productos no faltantes:  104\n"
     ]
    }
   ],
   "source": [
    "# Revisa si hay nombres duplicados de productos no faltantes\n",
    "df_products_duplicated_name = df_products[(df_products['product_name'].duplicated().sum()) & (~df_products['product_name'].isna())] \n",
    "\n",
    "print('Nombres duplicados de productos no faltantes: ', df_products_duplicated_name['product_name'].duplicated().sum())"
   ]
  },
  {
   "cell_type": "markdown",
   "id": "9da8d293",
   "metadata": {
    "id": "9da8d293"
   },
   "source": [
    "Describe brevemente tus hallazgos y lo que hiciste con ellos.\n",
    "\n",
    "Dentro del conjunto de datos products se puede observar que existen en los nombres de los productos, también fue necesario poner todos con mayúscula para poder compararlo mejor, Respecto a los nombres duplicados de productos no faltantes podemos decir que existen 104 nombres duplicados de productos en existencia."
   ]
  },
  {
   "cell_type": "markdown",
   "id": "c0b0db4e",
   "metadata": {},
   "source": [
    "\n",
    "<div class=\"alert alert-block alert-success\">\n",
    "<b>Comentario del revisor</b> <a class=\"tocSkip\"></a>\n",
    "\n",
    "Muy buen trabajo!! Desarrollaste de manera excelente el análisis de duplicados. Para complementar el análisis, qué podríamos decir de estos 104 productos duplicados? \n",
    "    \n",
    "</div>"
   ]
  },
  {
   "cell_type": "markdown",
   "id": "60f30db1",
   "metadata": {
    "id": "60f30db1"
   },
   "source": [
    "### `departments` data frame"
   ]
  },
  {
   "cell_type": "code",
   "execution_count": 78,
   "id": "fb410ad4-0fbf-4b80-bb09-23fdea79afe3",
   "metadata": {
    "id": "fb410ad4-0fbf-4b80-bb09-23fdea79afe3"
   },
   "outputs": [
    {
     "name": "stdout",
     "output_type": "stream",
     "text": [
      "Filas totalmente duplicadas en departments 0\n"
     ]
    }
   ],
   "source": [
    "# Revisa si hay filas totalmente duplicadas\n",
    "print('Filas totalmente duplicadas en departments', df_departments.duplicated().sum())"
   ]
  },
  {
   "cell_type": "code",
   "execution_count": 79,
   "id": "332b12bb",
   "metadata": {
    "id": "332b12bb"
   },
   "outputs": [
    {
     "name": "stdout",
     "output_type": "stream",
     "text": [
      "Id de departamentos dupliacdos en departments:  0\n",
      "Index(['department_id', 'department_name'], dtype='object')\n"
     ]
    }
   ],
   "source": [
    "# Revisa únicamente si hay IDs duplicadas de productos\n",
    "# Se realizó también el cambio de nombre de la columna department por department_name\n",
    "print('Id de departamentos dupliacdos en departments: ', df_departments['department_id'].duplicated().sum())\n",
    "columns_new = {'department': 'department_name'}\n",
    "df_departments = df_departments.rename(columns = columns_new)\n",
    "print(df_departments.columns)"
   ]
  },
  {
   "cell_type": "markdown",
   "id": "bd30d78e",
   "metadata": {
    "id": "bd30d78e"
   },
   "source": [
    "Describe brevemente tus hallazgos y lo que hiciste con ellos.\n",
    "\n",
    "Dentro de este conjuntos de datos no existen valores duplicados, sólo se hizo el cambio de nombre de la columna de department a department_name, esto con el fin de darle un nombre más descriptivo a la columna."
   ]
  },
  {
   "cell_type": "markdown",
   "id": "889349c1",
   "metadata": {
    "id": "889349c1"
   },
   "source": [
    "### `aisles` data frame"
   ]
  },
  {
   "cell_type": "code",
   "execution_count": 80,
   "id": "9da89fb9-4679-40f5-ad0d-c34df753a3f8",
   "metadata": {
    "id": "9da89fb9-4679-40f5-ad0d-c34df753a3f8"
   },
   "outputs": [
    {
     "name": "stdout",
     "output_type": "stream",
     "text": [
      "Filas totalmente duplicadas en aisles:  0\n"
     ]
    }
   ],
   "source": [
    "# Revisa si hay filas totalmente duplicadas\n",
    "print('Filas totalmente duplicadas en aisles: ', df_aisles.duplicated().sum())"
   ]
  },
  {
   "cell_type": "code",
   "execution_count": 81,
   "id": "da7c2822",
   "metadata": {
    "id": "da7c2822"
   },
   "outputs": [
    {
     "name": "stdout",
     "output_type": "stream",
     "text": [
      "IDs duplicadas de productos en aisles:  0\n",
      "Index(['aisle_id', 'aisle_name'], dtype='object')\n"
     ]
    }
   ],
   "source": [
    "# Revisa únicamente si hay IDs duplicadas de productos\n",
    "# Se realizó también el cambio de nombre de la columna aisle por aisle_name\n",
    "print('IDs duplicadas de productos en aisles: ', df_aisles['aisle_id'].duplicated().sum())\n",
    "columns_new = {'aisle': 'aisle_name'}\n",
    "df_aisles = df_aisles.rename(columns = columns_new)\n",
    "print(df_aisles.columns)"
   ]
  },
  {
   "cell_type": "markdown",
   "id": "ac63826f",
   "metadata": {
    "id": "ac63826f"
   },
   "source": [
    "Describe brevemente tus hallazgos y lo que hiciste con ellos.\n",
    "\n",
    "Al igual que el conjunto de datos anterior se puede observar que no existen valores duplicados, sólo se hizo el cambio de nombre de la columna de aisle a aisle_name, esto con el fin de darle un nombre más descriptivo a la columna."
   ]
  },
  {
   "cell_type": "markdown",
   "id": "274cd06a",
   "metadata": {
    "id": "274cd06a"
   },
   "source": [
    "### `order_products` data frame"
   ]
  },
  {
   "cell_type": "code",
   "execution_count": 82,
   "id": "52326689-84a8-4b8f-a881-7c68780f62c9",
   "metadata": {
    "id": "52326689-84a8-4b8f-a881-7c68780f62c9"
   },
   "outputs": [
    {
     "name": "stdout",
     "output_type": "stream",
     "text": [
      "Filas totalmente duplicadas en order_products:  0\n"
     ]
    }
   ],
   "source": [
    "# Revisa si hay filas totalmente duplicadas\n",
    "print('Filas totalmente duplicadas en order_products: ', df_order_products.duplicated().sum())"
   ]
  },
  {
   "cell_type": "code",
   "execution_count": 83,
   "id": "7b861391",
   "metadata": {
    "id": "7b861391"
   },
   "outputs": [
    {
     "name": "stdout",
     "output_type": "stream",
     "text": [
      "Total de ids de orden duplicados:  4094961\n",
      "Total de ids de productos duplicados:  4499434\n"
     ]
    }
   ],
   "source": [
    "# Vuelve a verificar si hay cualquier otro duplicado engañoso\n",
    "print('Total de ids de orden duplicados: ', df_order_products['order_id'].duplicated().sum())\n",
    "print ('Total de ids de productos duplicados: ', df_order_products['product_id'].duplicated().sum())\n",
    "#df_order_products[df_order_products['order_id'].duplicated()]"
   ]
  },
  {
   "cell_type": "markdown",
   "id": "0b890492",
   "metadata": {
    "id": "0b890492"
   },
   "source": [
    "Describe brevemente tus hallazgos y lo que hiciste con ellos.\n",
    "\n",
    "En este conjunto de datos se observa que no existen filas duplicadas pero si existen duplicados en las columnas order_id y product_id, se realizó la sumatoria para encontrar el total de duplicados."
   ]
  },
  {
   "cell_type": "markdown",
   "id": "1e46de76",
   "metadata": {
    "id": "1e46de76"
   },
   "source": [
    "## Encuentra y elimina los valores ausentes\n",
    "\n",
    "Al trabajar con valores duplicados, pudimos observar que también nos falta investigar valores ausentes:\n",
    "\n",
    "* La columna `'product_name'` de la tabla products.\n",
    "* La columna `'days_since_prior_order'` de la tabla orders.\n",
    "* La columna `'add_to_cart_order'` de la tabla order_productos."
   ]
  },
  {
   "cell_type": "markdown",
   "id": "c0aebd78",
   "metadata": {
    "id": "c0aebd78"
   },
   "source": [
    "### `products` data frame"
   ]
  },
  {
   "cell_type": "code",
   "execution_count": 84,
   "id": "fe4a8b0f",
   "metadata": {
    "id": "fe4a8b0f"
   },
   "outputs": [
    {
     "name": "stdout",
     "output_type": "stream",
     "text": [
      "Total valores ausentes en product_name: 1258\n"
     ]
    },
    {
     "data": {
      "text/html": [
       "<div>\n",
       "<style scoped>\n",
       "    .dataframe tbody tr th:only-of-type {\n",
       "        vertical-align: middle;\n",
       "    }\n",
       "\n",
       "    .dataframe tbody tr th {\n",
       "        vertical-align: top;\n",
       "    }\n",
       "\n",
       "    .dataframe thead th {\n",
       "        text-align: right;\n",
       "    }\n",
       "</style>\n",
       "<table border=\"1\" class=\"dataframe\">\n",
       "  <thead>\n",
       "    <tr style=\"text-align: right;\">\n",
       "      <th></th>\n",
       "      <th>product_id</th>\n",
       "      <th>product_name</th>\n",
       "      <th>aisle_id</th>\n",
       "      <th>department_id</th>\n",
       "    </tr>\n",
       "  </thead>\n",
       "  <tbody>\n",
       "    <tr>\n",
       "      <th>37</th>\n",
       "      <td>38</td>\n",
       "      <td>NaN</td>\n",
       "      <td>100</td>\n",
       "      <td>21</td>\n",
       "    </tr>\n",
       "    <tr>\n",
       "      <th>71</th>\n",
       "      <td>72</td>\n",
       "      <td>NaN</td>\n",
       "      <td>100</td>\n",
       "      <td>21</td>\n",
       "    </tr>\n",
       "    <tr>\n",
       "      <th>109</th>\n",
       "      <td>110</td>\n",
       "      <td>NaN</td>\n",
       "      <td>100</td>\n",
       "      <td>21</td>\n",
       "    </tr>\n",
       "    <tr>\n",
       "      <th>296</th>\n",
       "      <td>297</td>\n",
       "      <td>NaN</td>\n",
       "      <td>100</td>\n",
       "      <td>21</td>\n",
       "    </tr>\n",
       "    <tr>\n",
       "      <th>416</th>\n",
       "      <td>417</td>\n",
       "      <td>NaN</td>\n",
       "      <td>100</td>\n",
       "      <td>21</td>\n",
       "    </tr>\n",
       "    <tr>\n",
       "      <th>...</th>\n",
       "      <td>...</td>\n",
       "      <td>...</td>\n",
       "      <td>...</td>\n",
       "      <td>...</td>\n",
       "    </tr>\n",
       "    <tr>\n",
       "      <th>49552</th>\n",
       "      <td>49553</td>\n",
       "      <td>NaN</td>\n",
       "      <td>100</td>\n",
       "      <td>21</td>\n",
       "    </tr>\n",
       "    <tr>\n",
       "      <th>49574</th>\n",
       "      <td>49575</td>\n",
       "      <td>NaN</td>\n",
       "      <td>100</td>\n",
       "      <td>21</td>\n",
       "    </tr>\n",
       "    <tr>\n",
       "      <th>49640</th>\n",
       "      <td>49641</td>\n",
       "      <td>NaN</td>\n",
       "      <td>100</td>\n",
       "      <td>21</td>\n",
       "    </tr>\n",
       "    <tr>\n",
       "      <th>49663</th>\n",
       "      <td>49664</td>\n",
       "      <td>NaN</td>\n",
       "      <td>100</td>\n",
       "      <td>21</td>\n",
       "    </tr>\n",
       "    <tr>\n",
       "      <th>49668</th>\n",
       "      <td>49669</td>\n",
       "      <td>NaN</td>\n",
       "      <td>100</td>\n",
       "      <td>21</td>\n",
       "    </tr>\n",
       "  </tbody>\n",
       "</table>\n",
       "<p>1258 rows × 4 columns</p>\n",
       "</div>"
      ],
      "text/plain": [
       "       product_id product_name  aisle_id  department_id\n",
       "37             38          NaN       100             21\n",
       "71             72          NaN       100             21\n",
       "109           110          NaN       100             21\n",
       "296           297          NaN       100             21\n",
       "416           417          NaN       100             21\n",
       "...           ...          ...       ...            ...\n",
       "49552       49553          NaN       100             21\n",
       "49574       49575          NaN       100             21\n",
       "49640       49641          NaN       100             21\n",
       "49663       49664          NaN       100             21\n",
       "49668       49669          NaN       100             21\n",
       "\n",
       "[1258 rows x 4 columns]"
      ]
     },
     "execution_count": 84,
     "metadata": {},
     "output_type": "execute_result"
    }
   ],
   "source": [
    "# Encuentra los valores ausentes en la columna 'product_name'\n",
    "print('Total valores ausentes en product_name:', df_products['product_name'].isna().sum())\n",
    "df_products[df_products['product_name'].isna()]\n"
   ]
  },
  {
   "cell_type": "markdown",
   "id": "-A6x1AbJhjkp",
   "metadata": {
    "id": "-A6x1AbJhjkp"
   },
   "source": [
    "Describe brevemente cuáles son tus hallazgos.\n",
    "Se encontraron 1258 valores ausentes en la columna product_name del conjunto de datos products, de los cuales a simple vistase puede notar que pertenecen al departamneo 21 y pasillo 100. "
   ]
  },
  {
   "cell_type": "code",
   "execution_count": 85,
   "id": "e96167bc",
   "metadata": {
    "id": "e96167bc"
   },
   "outputs": [
    {
     "name": "stdout",
     "output_type": "stream",
     "text": [
      "Total de productos ausentes relacionados con el pasillo con ID 100: 1258\n"
     ]
    }
   ],
   "source": [
    "#  ¿Todos los nombres de productos ausentes están relacionados con el pasillo con ID 100?\n",
    "df_products_aisle = df_products[(df_products['product_name'].isna()) & (df_products['aisle_id']==100)]\n",
    "print('Total de productos ausentes relacionados con el pasillo con ID 100:', df_products_aisle['product_name'].isna().sum())"
   ]
  },
  {
   "cell_type": "markdown",
   "id": "WRpIfXRphpSL",
   "metadata": {
    "id": "WRpIfXRphpSL"
   },
   "source": [
    "Describe brevemente cuáles son tus hallazgos.\n",
    "Se realizó un filtro para comprobar si todos los valores ausentes están relacionados con el pasillo con ID 100 y esto es correcto."
   ]
  },
  {
   "cell_type": "code",
   "execution_count": 86,
   "id": "8fd0a541",
   "metadata": {
    "id": "8fd0a541"
   },
   "outputs": [
    {
     "name": "stdout",
     "output_type": "stream",
     "text": [
      "Total de productos ausentes relacionados con el departamento con ID 21: 1258\n"
     ]
    }
   ],
   "source": [
    "# ¿Todos los nombres de productos ausentes están relacionados con el departamento con ID 21?\n",
    "df_products_depart = df_products[(df_products['product_name'].isna()) & (df_products['department_id']==21)]\n",
    "print('Total de productos ausentes relacionados con el departamento con ID 21:', df_products_depart['product_name'].isna().sum())\n"
   ]
  },
  {
   "cell_type": "markdown",
   "id": "qDpdYn1Fht_I",
   "metadata": {
    "id": "qDpdYn1Fht_I"
   },
   "source": [
    "Describe brevemente cuáles son tus hallazgos.\n",
    "\n",
    "Se realizó un filtro para comprobar si todos los valores ausentes están relacionados con el departamento con ID 21 y esto es correcto."
   ]
  },
  {
   "cell_type": "code",
   "execution_count": 87,
   "id": "325c3464",
   "metadata": {
    "id": "325c3464"
   },
   "outputs": [
    {
     "name": "stdout",
     "output_type": "stream",
     "text": [
      "    department_id department_name\n",
      "20             21         missing\n",
      "    aisle_id aisle_name\n",
      "99       100    missing\n"
     ]
    }
   ],
   "source": [
    "# Usa las tablas department y aisle para revisar los datos del pasillo con ID 100 y el departamento con ID 21.\n",
    "print(df_departments[df_departments['department_id']==21])\n",
    "print(df_aisles[df_aisles['aisle_id']==100])"
   ]
  },
  {
   "cell_type": "markdown",
   "id": "nqhSTUPhhvEJ",
   "metadata": {
    "id": "nqhSTUPhhvEJ"
   },
   "source": [
    "Describe brevemente cuáles son tus hallazgos.\n",
    "Se puede observar que el nombre para cada uno de estos datos aparaece como 'missing' es decir como faltante."
   ]
  },
  {
   "cell_type": "code",
   "execution_count": 88,
   "id": "6b295120",
   "metadata": {
    "id": "6b295120"
   },
   "outputs": [
    {
     "name": "stdout",
     "output_type": "stream",
     "text": [
      "Total de valores ausentes en product_name:  0\n"
     ]
    }
   ],
   "source": [
    "# Completa los nombres de productos ausentes con 'Unknown' usando el método fillna pasando como argumneto el string\n",
    "df_products['product_name'] = df_products['product_name'].fillna('Unknown')\n",
    "print('Total de valores ausentes en product_name: ', df_products['product_name'].isna().sum())"
   ]
  },
  {
   "cell_type": "markdown",
   "id": "fc70e5ad",
   "metadata": {
    "id": "fc70e5ad"
   },
   "source": [
    "Describe brevemente tus hallazgos y lo que hiciste con ellos.\n",
    "\n",
    "Se llenaron los valores ausentes con la cadena 'Unknown' y se volvieron a llamar los métodos isna().sum() para comprobar que ya no existen valores ausentes."
   ]
  },
  {
   "cell_type": "markdown",
   "id": "a51df974",
   "metadata": {},
   "source": [
    "<div class=\"alert alert-block alert-success\">\n",
    "<b>Comentario del revisor</b> <a class=\"tocSkip\"></a>\n",
    "\n",
    "Muy buen trabajo!! Desarrollaste de manera excelente el análisis de valores faltantes y los llenaste con \"unknown\".\n",
    "    \n",
    "</div>"
   ]
  },
  {
   "cell_type": "markdown",
   "id": "7eb45c86",
   "metadata": {
    "id": "7eb45c86"
   },
   "source": [
    "### `orders` data frame"
   ]
  },
  {
   "cell_type": "code",
   "execution_count": 89,
   "id": "93e41d96",
   "metadata": {
    "id": "93e41d96"
   },
   "outputs": [
    {
     "name": "stdout",
     "output_type": "stream",
     "text": [
      "Valores ausentes en instacart_orders:  order_id                      0\n",
      "user_id                       0\n",
      "order_number                  0\n",
      "order_dow                     0\n",
      "order_hour_of_day             0\n",
      "days_since_prior_order    28817\n",
      "dtype: int64\n"
     ]
    }
   ],
   "source": [
    "# Encuentra los valores ausentes\n",
    "print('Valores ausentes en instacart_orders: ', df_instacart_orders.isna().sum())"
   ]
  },
  {
   "cell_type": "code",
   "execution_count": 90,
   "id": "166e5a86",
   "metadata": {
    "id": "166e5a86"
   },
   "outputs": [
    {
     "name": "stdout",
     "output_type": "stream",
     "text": [
      "Empty DataFrame\n",
      "Columns: [order_id, user_id, order_number, order_dow, order_hour_of_day, days_since_prior_order]\n",
      "Index: []\n"
     ]
    }
   ],
   "source": [
    "# ¿Hay algún valor ausente que no sea el primer pedido del cliente?\n",
    "df_order=df_instacart_orders[(df_instacart_orders['days_since_prior_order'].isna()) & (~df_instacart_orders['order_number']==1)]\n",
    "print(df_order)\n"
   ]
  },
  {
   "cell_type": "markdown",
   "id": "4e23d089",
   "metadata": {
    "id": "4e23d089"
   },
   "source": [
    "Describe brevemente tus hallazgos y lo que hiciste con ellos.\n",
    "\n",
    "Se encontraron 28819 valores ausentes y posteriormente se realizo un filtro para comprobar que si hay valor ausente que no sea el primer pedido del cliente."
   ]
  },
  {
   "cell_type": "markdown",
   "id": "69dc9ca4",
   "metadata": {
    "id": "69dc9ca4"
   },
   "source": [
    "### `order_products` data frame"
   ]
  },
  {
   "cell_type": "code",
   "execution_count": 91,
   "id": "b8240253",
   "metadata": {
    "id": "b8240253"
   },
   "outputs": [
    {
     "name": "stdout",
     "output_type": "stream",
     "text": [
      "Total de valores ausentes:  836\n",
      "\n",
      "         order_id  product_id  add_to_cart_order  reordered\n",
      "737       2449164        5068                NaN          0\n",
      "9926      1968313       43867                NaN          0\n",
      "14394     2926893       11688                NaN          0\n",
      "16418     1717990        4142                NaN          0\n",
      "30114     1959075       42828                NaN          1\n",
      "...           ...         ...                ...        ...\n",
      "4505662   1800005        7411                NaN          0\n",
      "4511400   1633337         260                NaN          0\n",
      "4517562    404157        9517                NaN          0\n",
      "4534112   1673227       17835                NaN          0\n",
      "4535739   1832957       17949                NaN          1\n",
      "\n",
      "[836 rows x 4 columns]\n"
     ]
    }
   ],
   "source": [
    "# Encuentra los valores ausentes\n",
    "print('Total de valores ausentes: ',df_order_products['add_to_cart_order'].isna().sum()) # Cuenya cuantos nan existen\n",
    "print()\n",
    "print(df_order_products[df_order_products['add_to_cart_order'].isna()])  # Muestra las filas con valores nan"
   ]
  },
  {
   "cell_type": "code",
   "execution_count": 92,
   "id": "9a78e5ee",
   "metadata": {
    "id": "9a78e5ee"
   },
   "outputs": [
    {
     "name": "stdout",
     "output_type": "stream",
     "text": [
      "Valor mínimo:  1.0 \n",
      "Valor máximo:  64.0\n"
     ]
    }
   ],
   "source": [
    "# ¿Cuáles son los valores mínimos y máximos en esta columna?\n",
    "print('Valor mínimo: ', df_order_products['add_to_cart_order'].min(), '\\nValor máximo: ', df_order_products['add_to_cart_order'].max())"
   ]
  },
  {
   "cell_type": "markdown",
   "id": "-Z2Ja215jW78",
   "metadata": {
    "id": "-Z2Ja215jW78"
   },
   "source": [
    "Describe brevemente cuáles son tus hallazgos.\n",
    "\n",
    "Dentro del conjunto de datos order_products se puede observar que existen 836 valores ausentes que se encuentran en la columna add_to_cart_order. dentro de esta columna se puede notar que el valor máximo es de 64 y el mínimo de 1"
   ]
  },
  {
   "cell_type": "code",
   "execution_count": 93,
   "id": "ab9d0c2b",
   "metadata": {
    "id": "ab9d0c2b"
   },
   "outputs": [
    {
     "name": "stdout",
     "output_type": "stream",
     "text": [
      "IDs de pedidos que tengan un valor ausente en add_to_cart_order:  836\n",
      "\n",
      "         order_id  add_to_cart_order  product_id\n",
      "737       2449164                NaN        5068\n",
      "9926      1968313                NaN       43867\n",
      "14394     2926893                NaN       11688\n",
      "16418     1717990                NaN        4142\n",
      "30114     1959075                NaN       42828\n",
      "...           ...                ...         ...\n",
      "4505662   1800005                NaN        7411\n",
      "4511400   1633337                NaN         260\n",
      "4517562    404157                NaN        9517\n",
      "4534112   1673227                NaN       17835\n",
      "4535739   1832957                NaN       17949\n",
      "\n",
      "[836 rows x 3 columns]\n"
     ]
    }
   ],
   "source": [
    "# Guarda todas las IDs de pedidos que tengan un valor ausente en 'add_to_cart_order'\n",
    "print('IDs de pedidos que tengan un valor ausente en add_to_cart_order: ', df_order_products['add_to_cart_order'].isna().sum())\n",
    "print()\n",
    "miss_add = df_order_products.query(\"add_to_cart_order.isna()\")[['order_id', 'add_to_cart_order', 'product_id']]\n",
    "print(miss_add)"
   ]
  },
  {
   "cell_type": "code",
   "execution_count": 94,
   "id": "54c31695",
   "metadata": {
    "id": "54c31695"
   },
   "outputs": [
    {
     "name": "stdout",
     "output_type": "stream",
     "text": [
      "         order_id  add_to_cart_order  product_id\n",
      "737       2449164                NaN        5068\n",
      "9926      1968313                NaN       43867\n",
      "14394     2926893                NaN       11688\n",
      "16418     1717990                NaN        4142\n",
      "30114     1959075                NaN       42828\n",
      "...           ...                ...         ...\n",
      "4505662   1800005                NaN        7411\n",
      "4511400   1633337                NaN         260\n",
      "4517562    404157                NaN        9517\n",
      "4534112   1673227                NaN       17835\n",
      "4535739   1832957                NaN       17949\n",
      "\n",
      "[836 rows x 3 columns] \n",
      "\n",
      "         order_id  product_id\n",
      "737       2449164        5068\n",
      "9926      1968313       43867\n",
      "14394     2926893       11688\n",
      "16418     1717990        4142\n",
      "30114     1959075       42828\n",
      "...           ...         ...\n",
      "4505662   1800005        7411\n",
      "4511400   1633337         260\n",
      "4517562    404157        9517\n",
      "4534112   1673227       17835\n",
      "4535739   1832957       17949\n",
      "\n",
      "[836 rows x 2 columns] \n",
      "\n",
      "836 \n",
      "\n"
     ]
    }
   ],
   "source": [
    "# ¿Todos los pedidos con valores ausentes tienen más de 64 productos?\n",
    "values_64 = miss_add[(miss_add['order_id'] > 64) & (miss_add['add_to_cart_order'].isna())] \n",
    "print(values_64,'\\n')\n",
    "# Agrupa todos los pedidos con datos ausentes por su ID de pedido.\n",
    "miss_val_id = values_64.query(\"add_to_cart_order.isna()\")[['order_id', 'product_id']]\n",
    "print(miss_val_id,'\\n')\n",
    "# Cuenta el número de 'product_id' en cada pedido y revisa el valor mínimo del conteo.\n",
    "count_id = miss_val_id['product_id'].count()\n",
    "print(count_id.min(),'\\n')"
   ]
  },
  {
   "cell_type": "markdown",
   "id": "p9V6pddtjglj",
   "metadata": {
    "id": "p9V6pddtjglj"
   },
   "source": [
    "Describe brevemente cuáles son tus hallazgos.\n",
    "En esta sección se puede notar que aunque existen valores ausentes en la columna add_to_cart_order hay información relevante en la cantidad de productos que los clientes solicitan. "
   ]
  },
  {
   "cell_type": "code",
   "execution_count": 95,
   "id": "7a987d08",
   "metadata": {
    "id": "7a987d08"
   },
   "outputs": [
    {
     "name": "stdout",
     "output_type": "stream",
     "text": [
      "         order_id  product_id  add_to_cart_order  reordered\n",
      "0         2141543       11440                 17          0\n",
      "1          567889        1560                  1          1\n",
      "2         2261212       26683                  1          1\n",
      "3          491251        8670                 35          1\n",
      "4         2571142        1940                  5          1\n",
      "...           ...         ...                ...        ...\n",
      "4545002    577211       15290                 12          1\n",
      "4545003   1219554       21914                  9          0\n",
      "4545004    692640       47766                  4          1\n",
      "4545005    319435         691                  8          1\n",
      "4545006   1398151       28733                  9          0\n",
      "\n",
      "[4545007 rows x 4 columns]\n"
     ]
    }
   ],
   "source": [
    "# Remplaza los valores ausentes en la columna 'add_to_cart? con 999 y convierte la columna al tipo entero.\n",
    "df_order_products['add_to_cart_order'] = df_order_products['add_to_cart_order'].fillna(999)\n",
    "df_order_products['add_to_cart_order'] = df_order_products['add_to_cart_order'].astype('int')\n",
    "print(df_order_products)"
   ]
  },
  {
   "cell_type": "markdown",
   "id": "fea4bcc7",
   "metadata": {
    "id": "fea4bcc7"
   },
   "source": [
    "Describe brevemente tus hallazgos y lo que hiciste con ellos.\n",
    "\n",
    "Una vez completados todos los valores en la columna add_to_cart_order ya se pudo cambiar el tipo de datos a int, que es más adecuado para esta columna. Se puede decir también que las órdenes que tienen más de 64 productos en realidad nunca fueron agregados por los clientes a sus carritos de compra o bien que puede haber alguna falla que no este guardando la información cuando la cantidad pasa de 64. "
   ]
  },
  {
   "cell_type": "markdown",
   "id": "c41aa9c4",
   "metadata": {},
   "source": [
    "<div class=\"alert alert-block alert-warning\">\n",
    "<b>Comentario revisor</b> <a class=\"tocSkip\"></a>\n",
    "\n",
    "\n",
    "Muy buena conclusión de esta base. Pero qué podríamos decir de los pedidos que tienen más de 64 productos?\n",
    "</div>"
   ]
  },
  {
   "cell_type": "markdown",
   "id": "RnplPFY1gSrb",
   "metadata": {
    "id": "RnplPFY1gSrb"
   },
   "source": [
    "## Conclusiones\n",
    "\n",
    "Escribe aquí tus conclusiones intermedias sobre el Paso 2. Preprocesamiento de los datos\n",
    "\n",
    "Trabajar con el preprocesamiento de datos ha resultado una tarea difícil pero necesaria para poder preparar los datos para poder comenzar con el análisis. Saber cuales son los métodos adecuados es algo hasta el momento ha sido complicado ya que es complicado recordar toda la teoría para poder aplicarla en la práctica, pero de eso se trata de practicar para poder aprender. "
   ]
  },
  {
   "cell_type": "markdown",
   "id": "UjrOIwTcz3ri",
   "metadata": {
    "id": "UjrOIwTcz3ri"
   },
   "source": [
    "# Paso 3. Análisis de los datos\n",
    "\n",
    "Una vez los datos estén procesados y listos, haz el siguiente análisis:"
   ]
  },
  {
   "cell_type": "markdown",
   "id": "turkish-kidney",
   "metadata": {
    "id": "turkish-kidney"
   },
   "source": [
    "# [A] Fácil (deben completarse todos para aprobar)\n",
    "\n",
    "1. Verifica que los valores en las columnas `'order_hour_of_day'` y `'order_dow'` en la tabla orders sean razonables (es decir, `'order_hour_of_day'` oscile entre 0 y 23 y `'order_dow'` oscile entre 0 y 6).\n",
    "2. Crea un gráfico que muestre el número de personas que hacen pedidos dependiendo de la hora del día.\n",
    "3. Crea un gráfico que muestre qué día de la semana la gente hace sus compras.\n",
    "4. Crea un gráfico que muestre el tiempo que la gente espera hasta hacer su siguiente pedido, y comenta sobre los valores mínimos y máximos."
   ]
  },
  {
   "cell_type": "markdown",
   "id": "short-capability",
   "metadata": {
    "id": "short-capability"
   },
   "source": [
    "### [A1] Verifica que los valores sean sensibles"
   ]
  },
  {
   "cell_type": "code",
   "execution_count": 96,
   "id": "growing-fruit",
   "metadata": {
    "id": "growing-fruit"
   },
   "outputs": [
    {
     "name": "stdout",
     "output_type": "stream",
     "text": [
      "        order_id  user_id  order_number  order_dow  order_hour_of_day  \\\n",
      "0        1515936   183418            11          6                 13   \n",
      "1        1690866   163593             5          5                 12   \n",
      "2        1454967    39980             4          5                 19   \n",
      "3        1768857    82516            56          0                 20   \n",
      "4        3007858   196724             2          4                 12   \n",
      "...          ...      ...           ...        ...                ...   \n",
      "478947   3210681     5617             5          1                 14   \n",
      "478948   3270802   112087             2          3                 13   \n",
      "478949    885349    82944            16          2                 11   \n",
      "478950    216274     4391             3          3                  8   \n",
      "478951   2071924     1730            18          1                 14   \n",
      "\n",
      "        days_since_prior_order  \n",
      "0                         30.0  \n",
      "1                          9.0  \n",
      "2                          2.0  \n",
      "3                         10.0  \n",
      "4                         17.0  \n",
      "...                        ...  \n",
      "478947                     7.0  \n",
      "478948                     6.0  \n",
      "478949                     6.0  \n",
      "478950                     8.0  \n",
      "478951                    15.0  \n",
      "\n",
      "[478952 rows x 6 columns]\n"
     ]
    }
   ],
   "source": [
    "# Se crea un filtro para comprobar que los valores en la columna order_hour_of_day de df_instacart_orders esten entre 0 y 23\n",
    "# Corresponde a los horas del día empezando por 0 que serían 12 a.m. con un formato de 24 horas.\n",
    "order_h = df_instacart_orders[(df_instacart_orders['order_hour_of_day'] >=0) & (df_instacart_orders['order_hour_of_day'] <=23)]\n",
    "print(order_h)"
   ]
  },
  {
   "cell_type": "code",
   "execution_count": 97,
   "id": "accessory-malaysia",
   "metadata": {
    "id": "accessory-malaysia"
   },
   "outputs": [
    {
     "name": "stdout",
     "output_type": "stream",
     "text": [
      "        order_id  user_id  order_number  order_dow  order_hour_of_day  \\\n",
      "0        1515936   183418            11          6                 13   \n",
      "1        1690866   163593             5          5                 12   \n",
      "2        1454967    39980             4          5                 19   \n",
      "3        1768857    82516            56          0                 20   \n",
      "4        3007858   196724             2          4                 12   \n",
      "...          ...      ...           ...        ...                ...   \n",
      "478947   3210681     5617             5          1                 14   \n",
      "478948   3270802   112087             2          3                 13   \n",
      "478949    885349    82944            16          2                 11   \n",
      "478950    216274     4391             3          3                  8   \n",
      "478951   2071924     1730            18          1                 14   \n",
      "\n",
      "        days_since_prior_order  \n",
      "0                         30.0  \n",
      "1                          9.0  \n",
      "2                          2.0  \n",
      "3                         10.0  \n",
      "4                         17.0  \n",
      "...                        ...  \n",
      "478947                     7.0  \n",
      "478948                     6.0  \n",
      "478949                     6.0  \n",
      "478950                     8.0  \n",
      "478951                    15.0  \n",
      "\n",
      "[478952 rows x 6 columns]\n"
     ]
    }
   ],
   "source": [
    "# Se crea un filtro para comprobar que los valores en la columna order_dow de df_instacart_orders esten entre 0 y 6.\n",
    "# Corresponde a los días de la semana empezando por 0 que sería domingo.\n",
    "order_d = df_instacart_orders[(df_instacart_orders['order_dow'] >=0) & (df_instacart_orders['order_dow'] <=6)]\n",
    "print(order_d)"
   ]
  },
  {
   "cell_type": "markdown",
   "id": "hmR2GNQ6lCsX",
   "metadata": {
    "id": "hmR2GNQ6lCsX"
   },
   "source": [
    "Escribe aquí tus conclusiones\n",
    "\n",
    "Con los filtros de dataframe creados se puede observar que los datos para las columnas order_hour_of_day y order_dow cumplen con las oscilaciones de valores respectivamente. "
   ]
  },
  {
   "cell_type": "markdown",
   "id": "a6743a70",
   "metadata": {
    "id": "a6743a70"
   },
   "source": [
    "### [A2] Para cada hora del día, ¿cuántas personas hacen órdenes?"
   ]
  },
  {
   "cell_type": "code",
   "execution_count": 98,
   "id": "a36cca27",
   "metadata": {
    "id": "a36cca27"
   },
   "outputs": [
    {
     "data": {
      "image/png": "[encoded data removed]",
      "text/plain": [
       "<Figure size 640x480 with 1 Axes>"
      ]
     },
     "metadata": {},
     "output_type": "display_data"
    }
   ],
   "source": [
    "# Se crea una agrupación en el conjunto df_instacart_orders para saber cuántos pedidos hicieron los usuarios durante cada hora del día.\n",
    "# Posteriormente se crea la gráfica para mostrar los resultados.\n",
    "hour_day = df_instacart_orders.groupby('order_hour_of_day')['order_id'].count()\n",
    "hour_day.plot(kind='bar', \n",
    "              title='Cantidad de ordenes por hora',\n",
    "              xlabel='Hour',\n",
    "              ylabel='Orders',\n",
    "              xlim=[0,23]\n",
    "              )\n",
    "plt.show()"
   ]
  },
  {
   "cell_type": "markdown",
   "id": "8d0eb7b9",
   "metadata": {},
   "source": [
    "<div class=\"alert alert-block alert-success\">\n",
    "<b>Comentario revisor</b> <a class=\"tocSkip\"></a>\n",
    "\n",
    "\n",
    "Muy buen trabajo el desarrollar una gráfica para visualizar los resultados\n",
    "</div>"
   ]
  },
  {
   "cell_type": "markdown",
   "id": "11270eed",
   "metadata": {
    "id": "11270eed"
   },
   "source": [
    "Escribe aquí tus conclusiones\n",
    "De acuerdo a los resultados mostrados en la gráfica se puede observar que los clientes compran más entre las 10 y 11 am, haciendo alrededor de 40,000 órdenes."
   ]
  },
  {
   "cell_type": "markdown",
   "id": "documented-command",
   "metadata": {
    "id": "documented-command"
   },
   "source": [
    "### [A3] ¿Qué día de la semana compran víveres las personas?"
   ]
  },
  {
   "cell_type": "code",
   "execution_count": 99,
   "id": "chief-digit",
   "metadata": {
    "id": "chief-digit"
   },
   "outputs": [
    {
     "data": {
      "image/png": "[encoded data removed]",
      "text/plain": [
       "<Figure size 640x480 with 1 Axes>"
      ]
     },
     "metadata": {},
     "output_type": "display_data"
    }
   ],
   "source": [
    "# Se crea una agrupación en el conjunto df_instacart_orders para saber cuántos pedidos hicieron los usuarios durante cada día de la semana.\n",
    "# Posteriormente se crea la gráfica para mostrar los resultados.\n",
    "week_day = df_instacart_orders.groupby('order_dow')['order_id'].count()\n",
    "week_day.plot(kind='bar', \n",
    "              title='Cantidad de ordenes por semana',\n",
    "              xlabel='Día Semana',\n",
    "              ylabel='Ordenes')\n",
    "plt.show()"
   ]
  },
  {
   "cell_type": "markdown",
   "id": "dominant-lightning",
   "metadata": {
    "id": "dominant-lightning"
   },
   "source": [
    "Escribe aquí tus conclusiones\n",
    "En esta gráfica se observa que los clientes compran más los días domingo y lunes, haciendo alrededor de 80,000 órdenes durante esos días. De martes a sábado hay un número similar de órdenes."
   ]
  },
  {
   "cell_type": "markdown",
   "id": "cutting-concert",
   "metadata": {
    "id": "cutting-concert"
   },
   "source": [
    "### [A4] ¿Cuánto tiempo esperan las personas hasta hacer otro pedido? Comenta sobre los valores mínimos y máximos."
   ]
  },
  {
   "cell_type": "code",
   "execution_count": 100,
   "id": "c231f523",
   "metadata": {
    "id": "c231f523"
   },
   "outputs": [
    {
     "data": {
      "image/png": "[encoded data removed]",
      "text/plain": [
       "<Figure size 640x480 with 1 Axes>"
      ]
     },
     "metadata": {},
     "output_type": "display_data"
    }
   ],
   "source": [
    "# Se hace una gráfica para saber valores máximos y mínimos de la columna days_since_prior_order, para saber cuanto días espera los clientes para hacer otro pedido.\n",
    "df_instacart_orders.hist(column='days_since_prior_order', bins=30)\n",
    "plt.title('Días desde la primer order')\n",
    "plt.xlabel('Días del mes')\n",
    "plt.ylabel('Ordenes')\n",
    "plt.show()\n"
   ]
  },
  {
   "cell_type": "markdown",
   "id": "925be8a7",
   "metadata": {},
   "source": [
    "<div class=\"alert alert-block alert-warning\">\n",
    "<b>Comentario Revisor</b> <a class=\"tocSkip\"></a>\n",
    "\n",
    "Si bien los resultados que muestras dan buena interpretación de los resultados, te recomiendo también hacer uso de la gráfica de barras para estos análisis. \n",
    "</div>"
   ]
  },
  {
   "cell_type": "markdown",
   "id": "discrete-vertex",
   "metadata": {
    "id": "discrete-vertex"
   },
   "source": [
    "Escribe aquí tus conclusiones\n",
    "\n",
    "Como se muestra en el histograma, se puede observer un pico en el día 30 lo cual indica que es el máximo de la días que pasan para que las personas vuelvan a hacer un pedido, tambien un mínimo de 0, lo que significa que las personas vuelven a hacer pedidos el mismo día. "
   ]
  },
  {
   "cell_type": "markdown",
   "id": "tight-staff",
   "metadata": {
    "id": "tight-staff"
   },
   "source": [
    "# [B] Intermedio (deben completarse todos para aprobar)\n",
    "\n",
    "1. ¿Existe alguna diferencia entre las distribuciones `'order_hour_of_day'` de los miércoles y los sábados? Traza gráficos de barra de `'order_hour_of_day'` para ambos días en la misma figura y describe las diferencias que observes.\n",
    "2. Grafica la distribución para el número de órdenes que hacen los clientes (es decir, cuántos clientes hicieron solo 1 pedido, cuántos hicieron 2, cuántos 3, y así sucesivamente...).\n",
    "3. ¿Cuáles son los 20 principales productos que se piden con más frecuencia (muestra su identificación y nombre)?"
   ]
  },
  {
   "cell_type": "markdown",
   "id": "packed-classic",
   "metadata": {
    "id": "packed-classic"
   },
   "source": [
    "### [B1] Diferencia entre miércoles y sábados para  `'order_hour_of_day'`. Traza gráficos de barra para los dos días y describe las diferencias que veas."
   ]
  },
  {
   "cell_type": "code",
   "execution_count": 101,
   "id": "d89b8403",
   "metadata": {
    "id": "d89b8403"
   },
   "outputs": [
    {
     "name": "stdout",
     "output_type": "stream",
     "text": [
      "        order_id  user_id  order_number  order_dow  order_hour_of_day  \\\n",
      "0        1515936   183418            11          6                 13   \n",
      "6        2511640   148233            40          3                  8   \n",
      "11        102585   191558            18          6                 16   \n",
      "14       2843219    74699             4          6                 11   \n",
      "16       3109465    55090            19          3                 15   \n",
      "...          ...      ...           ...        ...                ...   \n",
      "478939    984024    47076             2          6                 21   \n",
      "478941    640934    27104             9          3                 10   \n",
      "478946   3006133    34561             7          6                 10   \n",
      "478948   3270802   112087             2          3                 13   \n",
      "478950    216274     4391             3          3                  8   \n",
      "\n",
      "        days_since_prior_order  \n",
      "0                         30.0  \n",
      "6                          2.0  \n",
      "11                         8.0  \n",
      "14                        30.0  \n",
      "16                         9.0  \n",
      "...                        ...  \n",
      "478939                     6.0  \n",
      "478941                     6.0  \n",
      "478946                    30.0  \n",
      "478948                     6.0  \n",
      "478950                     8.0  \n",
      "\n",
      "[123546 rows x 6 columns]\n"
     ]
    }
   ],
   "source": [
    "# Se crea un filtro para saber si los valores 3 y 6, miércoles y sábado respectivamnete, con el método isin()\n",
    "wed_sat = df_instacart_orders[df_instacart_orders['order_dow'].isin([3,6])]\n",
    "print(wed_sat)"
   ]
  },
  {
   "cell_type": "code",
   "execution_count": 102,
   "id": "94e54e8a",
   "metadata": {
    "id": "94e54e8a"
   },
   "outputs": [
    {
     "name": "stdout",
     "output_type": "stream",
     "text": [
      "order_dow             3     6\n",
      "order_hour_of_day            \n",
      "0                   373   464\n",
      "1                   215   254\n",
      "2                   106   177\n",
      "3                   101   125\n",
      "4                   108   118\n",
      "5                   170   161\n",
      "6                   643   451\n",
      "7                  1732  1619\n",
      "8                  3125  3246\n",
      "9                  4490  4311\n",
      "10                 5026  4919\n",
      "11                 5004  5116\n",
      "12                 4688  5132\n",
      "13                 4674  5323\n",
      "14                 4774  5375\n",
      "15                 5163  5188\n",
      "16                 4976  5029\n",
      "17                 4175  4295\n",
      "18                 3463  3338\n",
      "19                 2652  2610\n",
      "20                 1917  1847\n",
      "21                 1450  1473\n",
      "22                 1154  1185\n",
      "23                  718   893\n"
     ]
    }
   ],
   "source": [
    "# Se crea una pivot table con los argumentos mostrados para cuantas ordenes hacen los usuarios durante  miércoles y sábado\n",
    "graph = wed_sat.pivot_table(index='order_hour_of_day', columns = 'order_dow', values='order_id', aggfunc = 'count')\n",
    "print(graph)"
   ]
  },
  {
   "cell_type": "code",
   "execution_count": 103,
   "id": "797c90a8",
   "metadata": {
    "id": "797c90a8"
   },
   "outputs": [
    {
     "data": {
      "image/png": "[encoded data removed]",
      "text/plain": [
       "<Figure size 1000x400 with 1 Axes>"
      ]
     },
     "metadata": {},
     "output_type": "display_data"
    }
   ],
   "source": [
    "# Se usa el método plot para mostras los resultados en una gráfica de barras.\n",
    "graph.plot(kind='bar',\n",
    "          title='Orders per hour on Wendesday and Saturday',\n",
    "          xlabel='Hour of the day',\n",
    "          ylabel='Total orders',\n",
    "          figsize=[10,4],)\n",
    "plt.legend(['Wendesday', 'Saturday'])\n",
    "plt.show()"
   ]
  },
  {
   "cell_type": "code",
   "execution_count": null,
   "id": "35bcea30",
   "metadata": {
    "id": "35bcea30"
   },
   "outputs": [],
   "source": []
  },
  {
   "cell_type": "markdown",
   "id": "charitable-congo",
   "metadata": {
    "id": "charitable-congo"
   },
   "source": [
    "Escribe aquí tus conclusiones\n",
    "\n",
    "El día sábado es cuando se realizan más pedidos en un rango de horas de 10 a 16, para el miércoles se realizan más pedidos durante las 10, 15 y 16 horas. Aun asi el dia sabado los pedidos siguen siendo más."
   ]
  },
  {
   "cell_type": "markdown",
   "id": "e3891143",
   "metadata": {
    "id": "e3891143"
   },
   "source": [
    "### [B2] ¿Cuál es la distribución para el número de pedidos por cliente?"
   ]
  },
  {
   "cell_type": "code",
   "execution_count": 104,
   "id": "d8c26c23",
   "metadata": {
    "id": "d8c26c23"
   },
   "outputs": [
    {
     "name": "stdout",
     "output_type": "stream",
     "text": [
      "1     55357\n",
      "2     36508\n",
      "3     21547\n",
      "4     13498\n",
      "5      8777\n",
      "6      6012\n",
      "7      4240\n",
      "8      3019\n",
      "9      2152\n",
      "10     1645\n",
      "11     1308\n",
      "12      947\n",
      "13      703\n",
      "14      512\n",
      "15      437\n",
      "16      263\n",
      "17      184\n",
      "18      121\n",
      "19       85\n",
      "20       52\n",
      "22       23\n",
      "21       22\n",
      "23       19\n",
      "24        3\n",
      "25        1\n",
      "26        1\n",
      "28        1\n",
      "Name: order_id, dtype: int64\n"
     ]
    }
   ],
   "source": [
    "# Se usa un groupby para saber cuántos pedidos hacen los clientes, es decir, cuantos hicieron un solo pedido, cuantos dos y así sucesivamente. \n",
    "count_client = df_instacart_orders.groupby('user_id')['order_id'].count().value_counts()\n",
    "print(count_client)"
   ]
  },
  {
   "cell_type": "code",
   "execution_count": 105,
   "id": "00e69a66",
   "metadata": {
    "id": "00e69a66"
   },
   "outputs": [
    {
     "data": {
      "image/png": "[encoded data removed]",
      "text/plain": [
       "<Figure size 640x480 with 1 Axes>"
      ]
     },
     "metadata": {},
     "output_type": "display_data"
    }
   ],
   "source": [
    "# Aquí se muestra la gráfica con los resultados obtenidos del filtro anterior.\n",
    "count_client.plot(kind='bar')\n",
    "plt.xlabel('Number of Orders per User')\n",
    "plt.ylabel('Number of Users')\n",
    "plt.title('Distribution of Order Counts per User')\n",
    "plt.show()"
   ]
  },
  {
   "cell_type": "markdown",
   "id": "54a0319c",
   "metadata": {
    "id": "54a0319c"
   },
   "source": [
    "### [B3] ¿Cuáles son los 20 productos más populares (muestra su ID y nombre)?"
   ]
  },
  {
   "cell_type": "code",
   "execution_count": 106,
   "id": "exterior-arizona",
   "metadata": {
    "id": "exterior-arizona",
    "scrolled": true
   },
   "outputs": [
    {
     "name": "stdout",
     "output_type": "stream",
     "text": [
      "         product_id                product_name  aisle_id  department_id  \\\n",
      "0                 1  CHOCOLATE SANDWICH COOKIES        61             19   \n",
      "1                 1  CHOCOLATE SANDWICH COOKIES        61             19   \n",
      "2                 1  CHOCOLATE SANDWICH COOKIES        61             19   \n",
      "3                 1  CHOCOLATE SANDWICH COOKIES        61             19   \n",
      "4                 1  CHOCOLATE SANDWICH COOKIES        61             19   \n",
      "...             ...                         ...       ...            ...   \n",
      "4545002       49694     BURRITO- STEAK & CHEESE        38              1   \n",
      "4545003       49694     BURRITO- STEAK & CHEESE        38              1   \n",
      "4545004       49694     BURRITO- STEAK & CHEESE        38              1   \n",
      "4545005       49694     BURRITO- STEAK & CHEESE        38              1   \n",
      "4545006       49694     BURRITO- STEAK & CHEESE        38              1   \n",
      "\n",
      "         order_id  add_to_cart_order  reordered  \n",
      "0         1104373                 11          1  \n",
      "1         1774977                  4          1  \n",
      "2          652770                 10          0  \n",
      "3         1000035                  6          1  \n",
      "4         1679949                  9          0  \n",
      "...           ...                ...        ...  \n",
      "4545002   3034802                 10          0  \n",
      "4545003   3175081                  3          0  \n",
      "4545004    694132                  2          0  \n",
      "4545005   2843165                  5          0  \n",
      "4545006   2077154                 12          0  \n",
      "\n",
      "[4545007 rows x 7 columns]\n"
     ]
    }
   ],
   "source": [
    "# Se hace un merge entre products y order_producs para poder usar las columnas necesarias y posteriormente hacer los filtros.\n",
    "merge_prod = df_products.merge(df_order_products, on='product_id')\n",
    "print(merge_prod)"
   ]
  },
  {
   "cell_type": "code",
   "execution_count": 107,
   "id": "universal-facial",
   "metadata": {
    "id": "universal-facial"
   },
   "outputs": [
    {
     "name": "stdout",
     "output_type": "stream",
     "text": [
      "product_name                                                                             product_id\n",
      "#2 COFFEE FILTERS                                                                        25773         110\n",
      "#2 CONE WHITE COFFEE FILTERS                                                             2158            2\n",
      "#2 MECHANICAL PENCILS                                                                    26685           3\n",
      "#4 NATURAL BROWN COFFEE FILTERS                                                          26381          39\n",
      "& GO! HAZELNUT SPREAD + PRETZEL STICKS                                                   20604          15\n",
      "                                                                                                      ... \n",
      "\\\"DARN GOOD\\\" CHILI MIX                                                                  10559           5\n",
      "\\\"IM PEI-NUT BUTTER\\\" DOUBLE CHOCOLATE COOKIE & PEANUT BUTTER ICE CREAM                  13817          20\n",
      "\\\"LOUIS BA-KAHN\\\" CHOCOLATE CHIP COOKIE & BROWN BUTTER CANDIED BACON ICE CREAM SANDWICH  44344           2\n",
      "\\\"MIES VANILLA ROHE\\\" ICE CREAM BARS                                                     25917           8\n",
      "\\\"MOKACCINO\\\" MILK + BLUE BOTTLE COFFEE CHOCOLATE                                        45316          52\n",
      "Name: order_id, Length: 45573, dtype: int64\n"
     ]
    }
   ],
   "source": [
    "# En esta parte se hace groupby para cuantas órdenes se hacen de cada producto. \n",
    "prod_20 = merge_prod.groupby(['product_name', 'product_id'])['order_id'].count()\n",
    "print(prod_20)"
   ]
  },
  {
   "cell_type": "code",
   "execution_count": 112,
   "id": "bbcdd20b",
   "metadata": {
    "id": "bbcdd20b"
   },
   "outputs": [
    {
     "data": {
      "image/png": "[encoded data removed]",
      "text/plain": [
       "<Figure size 1000x400 with 1 Axes>"
      ]
     },
     "metadata": {},
     "output_type": "display_data"
    }
   ],
   "source": [
    "# Aquí se hace ordenan el filtro en orden descendente para mostrar los 20 productos que más se venden.\n",
    "prod_20_sort = prod_20.sort_values(ascending=False)\n",
    "prod_20_sort_graph = prod_20_sort.head(20)\n",
    "#print(prod_20_sort.head(20))\n",
    "prod_20_sort_graph.plot(kind='bar', \n",
    "                title='Top 20 productos más populares',\n",
    "                xlabel='Nombre del producto',\n",
    "                ylabel='Total veces ordenado',\n",
    "                fontsize=6,\n",
    "                figsize=[10,4],)\n",
    "plt.show()"
   ]
  },
  {
   "cell_type": "markdown",
   "id": "8f3609c1",
   "metadata": {},
   "source": [
    "\n",
    "<div class=\"alert alert-block alert-warning\">\n",
    "<b>Comentario Revisor</b> <a class=\"tocSkip\"></a>\n",
    "\n",
    "Podrías complementar este análisis con una gráfica de barras de la popularidad de los productos. \n",
    "</div>"
   ]
  },
  {
   "cell_type": "markdown",
   "id": "3ec5428c",
   "metadata": {},
   "source": [
    "<div class=\"alert alert-block alert-success\">\n",
    "<b>Comentario del revisor</b> <a class=\"tocSkip\"></a>\n",
    "\n",
    "Muy buen desarrollo de la sección. Desarrollaste de buena manera todos los análisis y lo complementaste con una gráfica. \n",
    "</div>"
   ]
  },
  {
   "cell_type": "markdown",
   "id": "7df00f47",
   "metadata": {
    "id": "7df00f47"
   },
   "source": [
    "Escribe aquí tus conclusiones\n",
    "\n",
    "Se puede observar que los productos organicos son los que mas se venden. Como muestra la gráfica las bananas son el producto más popular entre los clientes."
   ]
  },
  {
   "cell_type": "markdown",
   "id": "gross-theme",
   "metadata": {
    "id": "gross-theme"
   },
   "source": [
    "# [C] Difícil (deben completarse todos para aprobar)\n",
    "\n",
    "1. ¿Cuántos artículos suelen comprar las personas en un pedido? ¿Cómo es la distribución?\n",
    "2. ¿Cuáles son los 20 principales artículos que vuelven a pedirse con mayor frecuencia (muestra sus nombres e IDs de los productos)?\n",
    "3. Para cada producto, ¿cuál es la tasa de repetición del pedido (número de repeticiones de pedido/total de pedidos?\n",
    "4. Para cada cliente, ¿qué proporción de los productos que pidió ya los había pedido? Calcula la tasa de repetición de pedido para cada usuario en lugar de para cada producto.\n",
    "5. ¿Cuáles son los 20 principales artículos que la gente pone primero en sus carritos (muestra las IDs de los productos, sus nombres, y el número de veces en que fueron el primer artículo en añadirse al carrito)?"
   ]
  },
  {
   "cell_type": "markdown",
   "id": "romantic-deposit",
   "metadata": {
    "id": "romantic-deposit"
   },
   "source": [
    "### [C1] ¿Cuántos artículos compran normalmente las personas en un pedido? ¿Cómo es la distribución?"
   ]
  },
  {
   "cell_type": "code",
   "execution_count": 51,
   "id": "virtual-punch",
   "metadata": {
    "id": "virtual-punch"
   },
   "outputs": [
    {
     "name": "stdout",
     "output_type": "stream",
     "text": [
      "         order_id  user_id  order_number  order_dow  order_hour_of_day  \\\n",
      "0         1515936   183418            11          6                 13   \n",
      "1         1515936   183418            11          6                 13   \n",
      "2         1515936   183418            11          6                 13   \n",
      "3         1515936   183418            11          6                 13   \n",
      "4         1515936   183418            11          6                 13   \n",
      "...           ...      ...           ...        ...                ...   \n",
      "4545148   2071924     1730            18          1                 14   \n",
      "4545149   2071924     1730            18          1                 14   \n",
      "4545150   2071924     1730            18          1                 14   \n",
      "4545151   2071924     1730            18          1                 14   \n",
      "4545152   2071924     1730            18          1                 14   \n",
      "\n",
      "         days_since_prior_order  product_id  add_to_cart_order  reordered  \n",
      "0                          30.0       19048                  1          1  \n",
      "1                          30.0       47766                  3          1  \n",
      "2                          30.0       45066                  9          0  \n",
      "3                          30.0       24082                 11          0  \n",
      "4                          30.0       24363                  4          0  \n",
      "...                         ...         ...                ...        ...  \n",
      "4545148                    15.0        1503                 17          0  \n",
      "4545149                    15.0        4778                 12          1  \n",
      "4545150                    15.0       11512                  1          1  \n",
      "4545151                    15.0        4920                  6          1  \n",
      "4545152                    15.0       17678                  4          1  \n",
      "\n",
      "[4545153 rows x 9 columns]\n"
     ]
    }
   ],
   "source": [
    "# Se hace un merge entre instacart_orders y order_producs para poder usar las columnas necesarias y posteriormente hacer los filtros.\n",
    "prod_order  = df_instacart_orders.merge(df_order_products, on='order_id')\n",
    "print(prod_order)"
   ]
  },
  {
   "cell_type": "code",
   "execution_count": 52,
   "id": "sensitive-breathing",
   "metadata": {
    "id": "sensitive-breathing"
   },
   "outputs": [
    {
     "name": "stdout",
     "output_type": "stream",
     "text": [
      "5      31922\n",
      "6      31699\n",
      "4      31054\n",
      "7      30821\n",
      "3      29045\n",
      "       ...  \n",
      "80         1\n",
      "87         1\n",
      "85         1\n",
      "72         1\n",
      "127        1\n",
      "Name: product_id, Length: 90, dtype: int64\n"
     ]
    }
   ],
   "source": [
    "# Aquí se hace un filtro para saber cuántos artículos compraron los usuarios en cada orden.\n",
    "total_prod = prod_order.groupby('order_id')['product_id'].count().value_counts()\n",
    "print(total_prod)"
   ]
  },
  {
   "cell_type": "code",
   "execution_count": 53,
   "id": "completed-frank",
   "metadata": {
    "id": "completed-frank"
   },
   "outputs": [
    {
     "data": {
      "image/png": "[encoded data removed]",
      "text/plain": [
       "<Figure size 1000x400 with 1 Axes>"
      ]
     },
     "metadata": {},
     "output_type": "display_data"
    }
   ],
   "source": [
    "# Se hace una gráfica para mostrar cuántos artículos compraron los usuarios en cada orden\n",
    "total_prod.plot(kind='bar', \n",
    "                title='Products per order',\n",
    "                xlabel='Id products',\n",
    "                ylabel='Total orders',\n",
    "                fontsize=6,\n",
    "                figsize=[10,4],)\n",
    "plt.show()"
   ]
  },
  {
   "cell_type": "markdown",
   "id": "designed-mortality",
   "metadata": {
    "id": "designed-mortality"
   },
   "source": [
    "Escribe aquí tus conclusiones\n",
    "\n",
    "Como se observa en la gráfica hay productos que se ordenan más de 30 mil veces, lo cual también puede indicar que son productos populares."
   ]
  },
  {
   "cell_type": "markdown",
   "id": "5e6b5537",
   "metadata": {
    "id": "5e6b5537"
   },
   "source": [
    "### [C2] ¿Cuáles son los 20 principales artículos que vuelven a pedirse con mayor frecuencia (muestra sus nombres e IDs de los productos)?"
   ]
  },
  {
   "cell_type": "code",
   "execution_count": 54,
   "id": "9374e55a",
   "metadata": {
    "id": "9374e55a"
   },
   "outputs": [
    {
     "name": "stdout",
     "output_type": "stream",
     "text": [
      "         product_id                product_name  aisle_id  department_id  \\\n",
      "0                 1  CHOCOLATE SANDWICH COOKIES        61             19   \n",
      "1                 1  CHOCOLATE SANDWICH COOKIES        61             19   \n",
      "2                 1  CHOCOLATE SANDWICH COOKIES        61             19   \n",
      "3                 1  CHOCOLATE SANDWICH COOKIES        61             19   \n",
      "4                 1  CHOCOLATE SANDWICH COOKIES        61             19   \n",
      "...             ...                         ...       ...            ...   \n",
      "4545002       49694     BURRITO- STEAK & CHEESE        38              1   \n",
      "4545003       49694     BURRITO- STEAK & CHEESE        38              1   \n",
      "4545004       49694     BURRITO- STEAK & CHEESE        38              1   \n",
      "4545005       49694     BURRITO- STEAK & CHEESE        38              1   \n",
      "4545006       49694     BURRITO- STEAK & CHEESE        38              1   \n",
      "\n",
      "         order_id  add_to_cart_order  reordered  \n",
      "0         1104373                 11          1  \n",
      "1         1774977                  4          1  \n",
      "2          652770                 10          0  \n",
      "3         1000035                  6          1  \n",
      "4         1679949                  9          0  \n",
      "...           ...                ...        ...  \n",
      "4545002   3034802                 10          0  \n",
      "4545003   3175081                  3          0  \n",
      "4545004    694132                  2          0  \n",
      "4545005   2843165                  5          0  \n",
      "4545006   2077154                 12          0  \n",
      "\n",
      "[4545007 rows x 7 columns]\n"
     ]
    }
   ],
   "source": [
    "# Se hace un merge entre products y order_producs para poder usar las columnas necesarias y posteriormente hacer los filtros.\n",
    "merge_prod_order = df_products.merge(df_order_products, on='product_id')\n",
    "print(merge_prod_order)"
   ]
  },
  {
   "cell_type": "code",
   "execution_count": 55,
   "id": "possible-change",
   "metadata": {
    "id": "possible-change",
    "scrolled": true
   },
   "outputs": [
    {
     "name": "stdout",
     "output_type": "stream",
     "text": [
      "product_name                                                                             product_id\n",
      "#2 COFFEE FILTERS                                                                        25773         110\n",
      "#2 CONE WHITE COFFEE FILTERS                                                             2158            2\n",
      "#2 MECHANICAL PENCILS                                                                    26685           3\n",
      "#4 NATURAL BROWN COFFEE FILTERS                                                          26381          39\n",
      "& GO! HAZELNUT SPREAD + PRETZEL STICKS                                                   20604          15\n",
      "                                                                                                      ... \n",
      "\\\"DARN GOOD\\\" CHILI MIX                                                                  10559           5\n",
      "\\\"IM PEI-NUT BUTTER\\\" DOUBLE CHOCOLATE COOKIE & PEANUT BUTTER ICE CREAM                  13817          20\n",
      "\\\"LOUIS BA-KAHN\\\" CHOCOLATE CHIP COOKIE & BROWN BUTTER CANDIED BACON ICE CREAM SANDWICH  44344           2\n",
      "\\\"MIES VANILLA ROHE\\\" ICE CREAM BARS                                                     25917           8\n",
      "\\\"MOKACCINO\\\" MILK + BLUE BOTTLE COFFEE CHOCOLATE                                        45316          52\n",
      "Name: reordered, Length: 45573, dtype: int64\n"
     ]
    }
   ],
   "source": [
    "# Se agrupan los datos para obtener la cantidad de productos que se volvieron a pedir, mostrando el nombre y id de los productos.\n",
    "merge_prod_order_20 = merge_prod_order.groupby(['product_name', 'product_id'])['reordered'].count()\n",
    "print(merge_prod_order_20)"
   ]
  },
  {
   "cell_type": "code",
   "execution_count": 56,
   "id": "professional-surfing",
   "metadata": {
    "id": "professional-surfing",
    "scrolled": true
   },
   "outputs": [
    {
     "name": "stdout",
     "output_type": "stream",
     "text": [
      "product_name              product_id\n",
      "BANANA                    24852         66050\n",
      "BAG OF ORGANIC BANANAS    13176         53297\n",
      "ORGANIC STRAWBERRIES      21137         37039\n",
      "ORGANIC BABY SPINACH      21903         33971\n",
      "ORGANIC HASS AVOCADO      47209         29773\n",
      "ORGANIC AVOCADO           47766         24689\n",
      "LARGE LEMON               47626         21495\n",
      "STRAWBERRIES              16797         20018\n",
      "LIMES                     26209         19690\n",
      "ORGANIC WHOLE MILK        27845         19600\n",
      "ORGANIC RASPBERRIES       27966         19197\n",
      "ORGANIC YELLOW ONION      22935         15898\n",
      "ORGANIC GARLIC            24964         15292\n",
      "ORGANIC ZUCCHINI          45007         14584\n",
      "ORGANIC BLUEBERRIES       39275         13879\n",
      "CUCUMBER KIRBY            49683         13675\n",
      "ORGANIC FUJI APPLE        28204         12544\n",
      "ORGANIC LEMON             5876          12232\n",
      "APPLE HONEYCRISP ORGANIC  8277          11993\n",
      "ORGANIC GRAPE TOMATOES    40706         11781\n",
      "Name: reordered, dtype: int64\n"
     ]
    }
   ],
   "source": [
    "# Se ordenan los valores en forma descendente y se imprimen los primeros 20 que los usuarios vuelven a pedir con más frecuencia.\n",
    "merge_prod_order_20_sort = merge_prod_order_20.sort_values(ascending=False)\n",
    "print(merge_prod_order_20_sort.head(20))"
   ]
  },
  {
   "cell_type": "code",
   "execution_count": null,
   "id": "48dd3658",
   "metadata": {
    "id": "48dd3658"
   },
   "outputs": [],
   "source": []
  },
  {
   "cell_type": "markdown",
   "id": "80e70c74",
   "metadata": {
    "id": "80e70c74"
   },
   "source": [
    "Escribe aquí tus conclusiones\n",
    "\n",
    "En esta parte se puede observar que los productos más solicitados son los orgánicos."
   ]
  },
  {
   "cell_type": "markdown",
   "id": "9d312b14",
   "metadata": {
    "id": "9d312b14"
   },
   "source": [
    "### [C3] Para cada producto, ¿cuál es la proporción de las veces que se pide y que se vuelve a pedir?"
   ]
  },
  {
   "cell_type": "code",
   "execution_count": 57,
   "id": "8ae9f4b1",
   "metadata": {
    "id": "8ae9f4b1"
   },
   "outputs": [
    {
     "name": "stdout",
     "output_type": "stream",
     "text": [
      "         order_id  product_id  add_to_cart_order  reordered  \\\n",
      "0         2141543       11440                 17          0   \n",
      "1          147172       11440                  7          1   \n",
      "2         3341719       11440                  4          1   \n",
      "3         1938779       11440                  8          1   \n",
      "4         1728338       11440                 23          0   \n",
      "...           ...         ...                ...        ...   \n",
      "4545002    267402       45226                 14          0   \n",
      "4545003   2621676       25201                 10          0   \n",
      "4545004    937623       49153                  2          0   \n",
      "4545005    532895        8182                  1          0   \n",
      "4545006   3132243       40024                  1          0   \n",
      "\n",
      "                               product_name  aisle_id  department_id  \n",
      "0            CHICKEN BREAST TENDERS BREADED       129              1  \n",
      "1            CHICKEN BREAST TENDERS BREADED       129              1  \n",
      "2            CHICKEN BREAST TENDERS BREADED       129              1  \n",
      "3            CHICKEN BREAST TENDERS BREADED       129              1  \n",
      "4            CHICKEN BREAST TENDERS BREADED       129              1  \n",
      "...                                     ...       ...            ...  \n",
      "4545002   SWEET TERIYAKI CHICKEN OVEN SAUCE         5             13  \n",
      "4545003          CRISP WATERS CANDLE SCENTS       101             17  \n",
      "4545004  SHINE COLLECTION BRILLANCE SHAMPOO        22             11  \n",
      "4545005    TOTAL MINT STRIPE GEL TOOTHPASTE        20             11  \n",
      "4545006                 EGG REPLACER POWDER        17             13  \n",
      "\n",
      "[4545007 rows x 7 columns]\n"
     ]
    }
   ],
   "source": [
    "# Se hace un merge entre las las tablas order_products y df_products para obtener una tabla con las columnas necesarias para hacer los filtros.\n",
    "order_prod = df_order_products.merge(df_products, on='product_id')\n",
    "print(order_prod)"
   ]
  },
  {
   "cell_type": "code",
   "execution_count": 58,
   "id": "103e7fe1",
   "metadata": {
    "id": "103e7fe1"
   },
   "outputs": [
    {
     "name": "stdout",
     "output_type": "stream",
     "text": [
      "product_id  product_name                                                     \n",
      "1           CHOCOLATE SANDWICH COOKIES                                           0.564286\n",
      "2           ALL-SEASONS SALT                                                     0.000000\n",
      "3           ROBUST GOLDEN UNSWEETENED OOLONG TEA                                 0.738095\n",
      "4           SMART ONES CLASSIC FAVORITES MINI RIGATONI WITH VODKA CREAM SAUCE    0.510204\n",
      "7           PURE COCONUT WATER WITH ORANGE                                       0.500000\n",
      "                                                                                   ...   \n",
      "49690       HIGH PERFORMANCE ENERGY DRINK                                        0.800000\n",
      "49691       ORIGINAL PANCAKE & WAFFLE MIX                                        0.430556\n",
      "49692       ORGANIC INSTANT OATMEAL LIGHT MAPLE BROWN SUGAR                      0.416667\n",
      "49693       SPRING WATER BODY WASH                                               0.440000\n",
      "49694       BURRITO- STEAK & CHEESE                                              0.333333\n",
      "Name: reordered, Length: 45573, dtype: float64\n"
     ]
    }
   ],
   "source": [
    "# En esta parte se busca obtener el porcentaje de reorden de los productos, mostrando su id y nombre.\n",
    "\n",
    "order_prod_prop = order_prod.groupby(['product_id', 'product_name'])['reordered'].mean()\n",
    "print(order_prod_prop)"
   ]
  },
  {
   "cell_type": "code",
   "execution_count": 59,
   "id": "social-individual",
   "metadata": {
    "id": "social-individual"
   },
   "outputs": [
    {
     "name": "stdout",
     "output_type": "stream",
     "text": [
      "1.299233424450691e-07\n"
     ]
    }
   ],
   "source": []
  },
  {
   "cell_type": "markdown",
   "id": "I10dEIAyldcO",
   "metadata": {
    "id": "I10dEIAyldcO"
   },
   "source": [
    "Escribe aquí tus conclusiones"
   ]
  },
  {
   "cell_type": "markdown",
   "id": "subject-boxing",
   "metadata": {
    "id": "subject-boxing"
   },
   "source": [
    "### [C4] Para cada cliente, ¿qué proporción de sus productos ya los había pedido?"
   ]
  },
  {
   "cell_type": "code",
   "execution_count": 61,
   "id": "medical-couple",
   "metadata": {
    "id": "medical-couple",
    "scrolled": true
   },
   "outputs": [
    {
     "name": "stdout",
     "output_type": "stream",
     "text": [
      "         order_id  product_id  add_to_cart_order  reordered  user_id  \\\n",
      "0         2141543       11440                 17          0    58454   \n",
      "1         2141543       31869                 15          1    58454   \n",
      "2         2141543       30233                  9          1    58454   \n",
      "3         2141543       27966                 20          1    58454   \n",
      "4         2141543       13176                  2          1    58454   \n",
      "...           ...         ...                ...        ...      ...   \n",
      "4545148   1790509       43739                  1          1    60894   \n",
      "4545149   1274005       38275                  1          1    32958   \n",
      "4545150    812418       46149                  1          1   130466   \n",
      "4545151   2666881         196                  1          1    33946   \n",
      "4545152   1461911       33198                  1          1    54019   \n",
      "\n",
      "         order_number  order_dow  order_hour_of_day  days_since_prior_order  \n",
      "0                  25          0                 15                     8.0  \n",
      "1                  25          0                 15                     8.0  \n",
      "2                  25          0                 15                     8.0  \n",
      "3                  25          0                 15                     8.0  \n",
      "4                  25          0                 15                     8.0  \n",
      "...               ...        ...                ...                     ...  \n",
      "4545148             9          2                 21                    18.0  \n",
      "4545149             7          5                 17                     1.0  \n",
      "4545150            34          1                 14                     0.0  \n",
      "4545151            12          1                  8                    17.0  \n",
      "4545152            10          5                 11                    23.0  \n",
      "\n",
      "[4545153 rows x 9 columns]\n"
     ]
    }
   ],
   "source": [
    "# Se hace un merge entre las las tablas order_products y df_instacart_orders para obtener una tabla con las columnas necesarias para hacer los filtros.\n",
    "prod_client = df_order_products.merge(df_instacart_orders, on='order_id')\n",
    "print(prod_client)"
   ]
  },
  {
   "cell_type": "code",
   "execution_count": 62,
   "id": "8892e4b4",
   "metadata": {
    "id": "8892e4b4"
   },
   "outputs": [
    {
     "name": "stdout",
     "output_type": "stream",
     "text": [
      "user_id\n",
      "2         0.038462\n",
      "4         0.000000\n",
      "5         0.666667\n",
      "6         0.000000\n",
      "7         0.928571\n",
      "            ...   \n",
      "206203    0.222222\n",
      "206206    0.714286\n",
      "206207    0.891304\n",
      "206208    0.696000\n",
      "206209    0.320000\n",
      "Name: reordered, Length: 149626, dtype: float64\n"
     ]
    }
   ],
   "source": [
    "# Aquí se busca hacer un filtro que muestre el porcentaje de productos que el cliente volvió a pedir. \n",
    "prod_client_prop = prod_client.groupby('user_id')['reordered'].mean()\n",
    "print(prod_client_prop)"
   ]
  },
  {
   "cell_type": "markdown",
   "id": "BgJSvXDsleXz",
   "metadata": {
    "id": "BgJSvXDsleXz"
   },
   "source": [
    "Escribe aquí tus conclusiones"
   ]
  },
  {
   "cell_type": "markdown",
   "id": "92d35137",
   "metadata": {
    "id": "92d35137"
   },
   "source": [
    "### [C5] ¿Cuáles son los 20 principales artículos que las personas ponen primero en sus carritos?"
   ]
  },
  {
   "cell_type": "code",
   "execution_count": 50,
   "id": "0ae57274",
   "metadata": {
    "id": "0ae57274",
    "scrolled": true
   },
   "outputs": [
    {
     "name": "stdout",
     "output_type": "stream",
     "text": [
      "         order_id  product_id  add_to_cart_order  reordered  \\\n",
      "0         2141543       11440                 17          0   \n",
      "1          147172       11440                  7          1   \n",
      "2         3341719       11440                  4          1   \n",
      "3         1938779       11440                  8          1   \n",
      "4         1728338       11440                 23          0   \n",
      "...           ...         ...                ...        ...   \n",
      "4545002    267402       45226                 14          0   \n",
      "4545003   2621676       25201                 10          0   \n",
      "4545004    937623       49153                  2          0   \n",
      "4545005    532895        8182                  1          0   \n",
      "4545006   3132243       40024                  1          0   \n",
      "\n",
      "                               product_name  aisle_id  department_id  \n",
      "0            CHICKEN BREAST TENDERS BREADED       129              1  \n",
      "1            CHICKEN BREAST TENDERS BREADED       129              1  \n",
      "2            CHICKEN BREAST TENDERS BREADED       129              1  \n",
      "3            CHICKEN BREAST TENDERS BREADED       129              1  \n",
      "4            CHICKEN BREAST TENDERS BREADED       129              1  \n",
      "...                                     ...       ...            ...  \n",
      "4545002   SWEET TERIYAKI CHICKEN OVEN SAUCE         5             13  \n",
      "4545003          CRISP WATERS CANDLE SCENTS       101             17  \n",
      "4545004  SHINE COLLECTION BRILLANCE SHAMPOO        22             11  \n",
      "4545005    TOTAL MINT STRIPE GEL TOOTHPASTE        20             11  \n",
      "4545006                 EGG REPLACER POWDER        17             13  \n",
      "\n",
      "[4545007 rows x 7 columns]\n"
     ]
    }
   ],
   "source": [
    "# Se hace un merge entre las las tablas df_order_products y df_products para obtener una tabla con las columnas necesarias para hacer los filtros.\n",
    "order_prod_add_first = df_order_products.merge(df_products, on='product_id')\n",
    "print(order_prod_add_first)"
   ]
  },
  {
   "cell_type": "code",
   "execution_count": 51,
   "id": "forty-netherlands",
   "metadata": {
    "id": "forty-netherlands",
    "scrolled": true
   },
   "outputs": [
    {
     "name": "stdout",
     "output_type": "stream",
     "text": [
      "product_id  product_name               \n",
      "24852       BANANA                         15562\n",
      "13176       BAG OF ORGANIC BANANAS         11026\n",
      "27845       ORGANIC WHOLE MILK              4363\n",
      "21137       ORGANIC STRAWBERRIES            3946\n",
      "47209       ORGANIC HASS AVOCADO            3390\n",
      "21903       ORGANIC BABY SPINACH            3336\n",
      "47766       ORGANIC AVOCADO                 3044\n",
      "19660       SPRING WATER                    2336\n",
      "16797       STRAWBERRIES                    2308\n",
      "27966       ORGANIC RASPBERRIES             2024\n",
      "44632       SPARKLING WATER GRAPEFRUIT      1914\n",
      "49235       ORGANIC HALF & HALF             1797\n",
      "47626       LARGE LEMON                     1737\n",
      "196         SODA                            1733\n",
      "38689       ORGANIC REDUCED FAT MILK        1397\n",
      "26209       LIMES                           1370\n",
      "12341       HASS AVOCADOS                   1340\n",
      "5785        ORGANIC REDUCED FAT 2% MILK     1310\n",
      "27086       HALF & HALF                     1309\n",
      "43352       RASPBERRIES                     1246\n",
      "dtype: int64\n"
     ]
    }
   ],
   "source": [
    "# En esta parte se hace un query donde se extraen los artículos que se añadieron primero al carrito, mostrando su ID y nombre.\n",
    "order_prod_add_first_20 = order_prod_add_first.query(\"add_to_cart_order == 1\")[['product_id', 'product_name']]\n",
    "graph_order_prod_add_first_20 = order_prod_add_first_20.value_counts().head(20)\n",
    "print(graph_order_prod_add_first_20)"
   ]
  },
  {
   "cell_type": "code",
   "execution_count": 52,
   "id": "08e41ec2",
   "metadata": {
    "id": "08e41ec2"
   },
   "outputs": [
    {
     "data": {
      "image/png": "[encoded data removed]",
      "text/plain": [
       "<Figure size 1000x400 with 1 Axes>"
      ]
     },
     "metadata": {},
     "output_type": "display_data"
    }
   ],
   "source": [
    "graph_order_prod_add_first_20.plot(kind='bar', \n",
    "                title='Top 20 Items People Put in Their Carts First',\n",
    "                xlabel='Product name',\n",
    "                ylabel='Total times first item added to cart',\n",
    "                fontsize=6,\n",
    "                figsize=[10,4],)\n",
    "plt.show()"
   ]
  },
  {
   "cell_type": "markdown",
   "id": "28ce9872",
   "metadata": {
    "id": "28ce9872"
   },
   "source": [
    "Escribe aquí tus conclusiones\n",
    "\n",
    "Como muestra, se puede observar que las bananas son el artículo que las personas agregan primero en sus carritos, seguido por otros productos orgánicos."
   ]
  },
  {
   "cell_type": "markdown",
   "id": "77a034fd",
   "metadata": {},
   "source": [
    "<div class=\"alert alert-block alert-success\">\n",
    "<b>Comentario del revisor</b> <a class=\"tocSkip\"></a>\n",
    "\n",
    "Muy buen desarrollo de la sección. Desarrollaste de buena manera todos los análisis y lo complementaste con una gráfica. \n",
    "</div>"
   ]
  },
  {
   "cell_type": "markdown",
   "id": "uITbFCEoDosC",
   "metadata": {
    "id": "uITbFCEoDosC"
   },
   "source": [
    "### Conclusion general del proyecto:\n"
   ]
  },
  {
   "cell_type": "code",
   "execution_count": null,
   "id": "Nk-4GS7mDwqY",
   "metadata": {
    "id": "Nk-4GS7mDwqY"
   },
   "outputs": [],
   "source": [
    "\"\"\"\n",
    "Personalmente este proyecto me ha parecido muy retador e interesante, una de las cosas que más puedo destacar es la en esta ocasión no se proporcionó toda la información como se hizo en los proyectos anteriores, \n",
    "lo cual me parece es una buena práctica para los estudiantes, pues en ocasiones en caso reales se debe aprender a solucionar este tipo de problemas aun cuando no se tiene clara la información. \n",
    "También puedo destacar que se me hizo difícil seleccionar las herramientas adecuadas para resolver algunos de los casos de este proyecto, \n",
    "sin embargo espero tener correcciones para saber en qué estoy fallando y encaminarme a mejorar en mis áreas de oportunidad. \n",
    "\"\"\"\n"
   ]
  }
 ],
 "metadata": {
  "ExecuteTimeLog": [
   {
    "duration": 327,
    "start_time": "2024-05-16T12:33:34.792Z"
   },
   {
    "duration": 4303,
    "start_time": "2024-05-16T12:33:41.637Z"
   },
   {
    "duration": 2252,
    "start_time": "2024-05-16T12:33:45.943Z"
   },
   {
    "duration": 21,
    "start_time": "2024-05-16T12:33:48.198Z"
   },
   {
    "duration": 16,
    "start_time": "2024-05-16T12:33:48.223Z"
   },
   {
    "duration": 13,
    "start_time": "2024-05-16T12:33:48.242Z"
   },
   {
    "duration": 49,
    "start_time": "2024-05-16T12:33:48.258Z"
   },
   {
    "duration": 44,
    "start_time": "2024-05-16T12:33:48.311Z"
   },
   {
    "duration": 409,
    "start_time": "2024-05-16T12:33:48.359Z"
   },
   {
    "duration": 19,
    "start_time": "2024-05-16T12:33:48.771Z"
   },
   {
    "duration": 199,
    "start_time": "2024-05-16T12:33:48.808Z"
   },
   {
    "duration": 210,
    "start_time": "2024-05-16T12:33:49.012Z"
   },
   {
    "duration": 130,
    "start_time": "2024-05-16T12:33:49.225Z"
   },
   {
    "duration": 28,
    "start_time": "2024-05-16T12:33:49.358Z"
   },
   {
    "duration": 9,
    "start_time": "2024-05-16T12:33:49.407Z"
   },
   {
    "duration": 38,
    "start_time": "2024-05-16T12:33:49.419Z"
   },
   {
    "duration": 57,
    "start_time": "2024-05-16T12:33:49.461Z"
   },
   {
    "duration": 11,
    "start_time": "2024-05-16T12:33:49.521Z"
   },
   {
    "duration": 8,
    "start_time": "2024-05-16T12:33:49.536Z"
   },
   {
    "duration": 6,
    "start_time": "2024-05-16T12:33:49.547Z"
   },
   {
    "duration": 49,
    "start_time": "2024-05-16T12:33:49.556Z"
   },
   {
    "duration": 1624,
    "start_time": "2024-05-16T12:33:49.609Z"
   },
   {
    "duration": 372,
    "start_time": "2024-05-16T12:33:51.239Z"
   },
   {
    "duration": 27,
    "start_time": "2024-05-16T12:33:51.615Z"
   },
   {
    "duration": 14,
    "start_time": "2024-05-16T12:33:51.646Z"
   },
   {
    "duration": 45,
    "start_time": "2024-05-16T12:33:51.664Z"
   },
   {
    "duration": 13,
    "start_time": "2024-05-16T12:33:51.713Z"
   },
   {
    "duration": 18,
    "start_time": "2024-05-16T12:33:51.729Z"
   },
   {
    "duration": 52,
    "start_time": "2024-05-16T12:33:51.757Z"
   },
   {
    "duration": 10,
    "start_time": "2024-05-16T12:33:51.815Z"
   },
   {
    "duration": 32,
    "start_time": "2024-05-16T12:33:51.828Z"
   },
   {
    "duration": 81,
    "start_time": "2024-05-16T12:33:51.864Z"
   },
   {
    "duration": 61,
    "start_time": "2024-05-16T12:33:51.948Z"
   },
   {
    "duration": 20,
    "start_time": "2024-05-16T12:33:52.012Z"
   },
   {
    "duration": 80,
    "start_time": "2024-05-16T12:33:52.035Z"
   },
   {
    "duration": 26,
    "start_time": "2024-05-16T12:33:52.118Z"
   },
   {
    "duration": 28,
    "start_time": "2024-05-16T12:33:52.147Z"
   },
   {
    "duration": 432,
    "start_time": "2024-05-16T12:33:52.206Z"
   },
   {
    "duration": 219,
    "start_time": "2024-05-16T12:33:52.640Z"
   },
   {
    "duration": 11,
    "start_time": "2024-05-16T12:33:52.862Z"
   },
   {
    "duration": 41,
    "start_time": "2024-05-16T12:33:52.878Z"
   },
   {
    "duration": 22,
    "start_time": "2024-05-16T12:33:52.922Z"
   },
   {
    "duration": 451,
    "start_time": "2024-05-16T12:33:52.948Z"
   },
   {
    "duration": 77,
    "start_time": "2024-05-16T12:33:53.409Z"
   },
   {
    "duration": 367,
    "start_time": "2024-05-16T12:33:53.488Z"
   },
   {
    "duration": 1461,
    "start_time": "2024-05-16T12:33:53.857Z"
   },
   {
    "duration": 775,
    "start_time": "2024-05-16T12:33:55.321Z"
   },
   {
    "duration": 6,
    "start_time": "2024-05-16T12:34:31.291Z"
   },
   {
    "duration": 945,
    "start_time": "2024-05-16T12:35:14.329Z"
   },
   {
    "duration": 10,
    "start_time": "2024-05-16T12:35:23.732Z"
   },
   {
    "duration": 749,
    "start_time": "2024-05-16T12:44:58.624Z"
   },
   {
    "duration": 758,
    "start_time": "2024-05-16T12:45:11.932Z"
   },
   {
    "duration": 93,
    "start_time": "2024-05-16T12:47:26.730Z"
   },
   {
    "duration": 1762,
    "start_time": "2024-05-16T12:47:39.339Z"
   },
   {
    "duration": 305,
    "start_time": "2024-05-16T12:47:43.994Z"
   },
   {
    "duration": 283,
    "start_time": "2024-05-16T12:47:52.505Z"
   },
   {
    "duration": 266,
    "start_time": "2024-05-16T12:48:53.994Z"
   },
   {
    "duration": 786,
    "start_time": "2024-05-16T12:54:15.297Z"
   },
   {
    "duration": 1665,
    "start_time": "2024-05-16T12:54:16.086Z"
   },
   {
    "duration": 18,
    "start_time": "2024-05-16T12:54:17.754Z"
   },
   {
    "duration": 33,
    "start_time": "2024-05-16T12:54:17.776Z"
   },
   {
    "duration": 14,
    "start_time": "2024-05-16T12:54:17.812Z"
   },
   {
    "duration": 13,
    "start_time": "2024-05-16T12:54:17.829Z"
   },
   {
    "duration": 85,
    "start_time": "2024-05-16T12:54:17.845Z"
   },
   {
    "duration": 354,
    "start_time": "2024-05-16T12:54:17.934Z"
   },
   {
    "duration": 29,
    "start_time": "2024-05-16T12:54:18.291Z"
   },
   {
    "duration": 205,
    "start_time": "2024-05-16T12:54:18.327Z"
   },
   {
    "duration": 169,
    "start_time": "2024-05-16T12:54:18.535Z"
   },
   {
    "duration": 126,
    "start_time": "2024-05-16T12:54:18.707Z"
   },
   {
    "duration": 23,
    "start_time": "2024-05-16T12:54:18.835Z"
   },
   {
    "duration": 8,
    "start_time": "2024-05-16T12:54:18.861Z"
   },
   {
    "duration": 68,
    "start_time": "2024-05-16T12:54:18.872Z"
   },
   {
    "duration": 22,
    "start_time": "2024-05-16T12:54:18.943Z"
   },
   {
    "duration": 6,
    "start_time": "2024-05-16T12:54:18.968Z"
   },
   {
    "duration": 37,
    "start_time": "2024-05-16T12:54:18.976Z"
   },
   {
    "duration": 6,
    "start_time": "2024-05-16T12:54:19.016Z"
   },
   {
    "duration": 8,
    "start_time": "2024-05-16T12:54:19.026Z"
   },
   {
    "duration": 1369,
    "start_time": "2024-05-16T12:54:19.038Z"
   },
   {
    "duration": 335,
    "start_time": "2024-05-16T12:54:20.409Z"
   },
   {
    "duration": 23,
    "start_time": "2024-05-16T12:54:20.748Z"
   },
   {
    "duration": 33,
    "start_time": "2024-05-16T12:54:20.773Z"
   },
   {
    "duration": 11,
    "start_time": "2024-05-16T12:54:20.809Z"
   },
   {
    "duration": 11,
    "start_time": "2024-05-16T12:54:20.823Z"
   },
   {
    "duration": 12,
    "start_time": "2024-05-16T12:54:20.838Z"
   },
   {
    "duration": 50,
    "start_time": "2024-05-16T12:54:20.858Z"
   },
   {
    "duration": 8,
    "start_time": "2024-05-16T12:54:20.911Z"
   },
   {
    "duration": 32,
    "start_time": "2024-05-16T12:54:20.922Z"
   },
   {
    "duration": 84,
    "start_time": "2024-05-16T12:54:20.957Z"
   },
   {
    "duration": 40,
    "start_time": "2024-05-16T12:54:21.045Z"
   },
   {
    "duration": 20,
    "start_time": "2024-05-16T12:54:21.107Z"
   },
   {
    "duration": 81,
    "start_time": "2024-05-16T12:54:21.130Z"
   },
   {
    "duration": 28,
    "start_time": "2024-05-16T12:54:21.213Z"
   },
   {
    "duration": 30,
    "start_time": "2024-05-16T12:54:21.243Z"
   },
   {
    "duration": 360,
    "start_time": "2024-05-16T12:54:21.306Z"
   },
   {
    "duration": 223,
    "start_time": "2024-05-16T12:54:21.670Z"
   },
   {
    "duration": 17,
    "start_time": "2024-05-16T12:54:21.896Z"
   },
   {
    "duration": 22,
    "start_time": "2024-05-16T12:54:21.916Z"
   },
   {
    "duration": 24,
    "start_time": "2024-05-16T12:54:21.941Z"
   },
   {
    "duration": 456,
    "start_time": "2024-05-16T12:54:21.968Z"
   },
   {
    "duration": 84,
    "start_time": "2024-05-16T12:54:22.428Z"
   },
   {
    "duration": 348,
    "start_time": "2024-05-16T12:54:22.515Z"
   },
   {
    "duration": 967,
    "start_time": "2024-05-16T12:54:22.866Z"
   },
   {
    "duration": 771,
    "start_time": "2024-05-16T12:54:23.836Z"
   },
   {
    "duration": 13,
    "start_time": "2024-05-16T12:54:24.611Z"
   },
   {
    "duration": 1393,
    "start_time": "2024-05-16T12:54:24.627Z"
   },
   {
    "duration": 296,
    "start_time": "2024-05-16T12:54:26.023Z"
   },
   {
    "duration": 768,
    "start_time": "2024-05-16T12:56:28.542Z"
   },
   {
    "duration": 1623,
    "start_time": "2024-05-16T12:56:29.314Z"
   },
   {
    "duration": 17,
    "start_time": "2024-05-16T12:56:30.939Z"
   },
   {
    "duration": 17,
    "start_time": "2024-05-16T12:56:30.962Z"
   },
   {
    "duration": 35,
    "start_time": "2024-05-16T12:56:30.982Z"
   },
   {
    "duration": 13,
    "start_time": "2024-05-16T12:56:31.020Z"
   },
   {
    "duration": 72,
    "start_time": "2024-05-16T12:56:31.036Z"
   },
   {
    "duration": 331,
    "start_time": "2024-05-16T12:56:31.111Z"
   },
   {
    "duration": 20,
    "start_time": "2024-05-16T12:56:31.444Z"
   },
   {
    "duration": 237,
    "start_time": "2024-05-16T12:56:31.471Z"
   },
   {
    "duration": 185,
    "start_time": "2024-05-16T12:56:31.712Z"
   },
   {
    "duration": 136,
    "start_time": "2024-05-16T12:56:31.900Z"
   },
   {
    "duration": 24,
    "start_time": "2024-05-16T12:56:32.039Z"
   },
   {
    "duration": 8,
    "start_time": "2024-05-16T12:56:32.066Z"
   },
   {
    "duration": 37,
    "start_time": "2024-05-16T12:56:32.106Z"
   },
   {
    "duration": 25,
    "start_time": "2024-05-16T12:56:32.146Z"
   },
   {
    "duration": 32,
    "start_time": "2024-05-16T12:56:32.176Z"
   },
   {
    "duration": 8,
    "start_time": "2024-05-16T12:56:32.212Z"
   },
   {
    "duration": 7,
    "start_time": "2024-05-16T12:56:32.224Z"
   },
   {
    "duration": 7,
    "start_time": "2024-05-16T12:56:32.234Z"
   },
   {
    "duration": 1498,
    "start_time": "2024-05-16T12:56:32.245Z"
   },
   {
    "duration": 344,
    "start_time": "2024-05-16T12:56:33.745Z"
   },
   {
    "duration": 30,
    "start_time": "2024-05-16T12:56:34.092Z"
   },
   {
    "duration": 11,
    "start_time": "2024-05-16T12:56:34.125Z"
   },
   {
    "duration": 10,
    "start_time": "2024-05-16T12:56:34.140Z"
   },
   {
    "duration": 53,
    "start_time": "2024-05-16T12:56:34.153Z"
   },
   {
    "duration": 12,
    "start_time": "2024-05-16T12:56:34.209Z"
   },
   {
    "duration": 9,
    "start_time": "2024-05-16T12:56:34.231Z"
   },
   {
    "duration": 10,
    "start_time": "2024-05-16T12:56:34.243Z"
   },
   {
    "duration": 71,
    "start_time": "2024-05-16T12:56:34.256Z"
   },
   {
    "duration": 49,
    "start_time": "2024-05-16T12:56:34.330Z"
   },
   {
    "duration": 40,
    "start_time": "2024-05-16T12:56:34.406Z"
   },
   {
    "duration": 21,
    "start_time": "2024-05-16T12:56:34.449Z"
   },
   {
    "duration": 56,
    "start_time": "2024-05-16T12:56:34.505Z"
   },
   {
    "duration": 47,
    "start_time": "2024-05-16T12:56:34.565Z"
   },
   {
    "duration": 30,
    "start_time": "2024-05-16T12:56:34.615Z"
   },
   {
    "duration": 370,
    "start_time": "2024-05-16T12:56:34.648Z"
   },
   {
    "duration": 244,
    "start_time": "2024-05-16T12:56:35.020Z"
   },
   {
    "duration": 11,
    "start_time": "2024-05-16T12:56:35.267Z"
   },
   {
    "duration": 41,
    "start_time": "2024-05-16T12:56:35.281Z"
   },
   {
    "duration": 23,
    "start_time": "2024-05-16T12:56:35.325Z"
   },
   {
    "duration": 444,
    "start_time": "2024-05-16T12:56:35.350Z"
   },
   {
    "duration": 72,
    "start_time": "2024-05-16T12:56:35.805Z"
   },
   {
    "duration": 355,
    "start_time": "2024-05-16T12:56:35.880Z"
   },
   {
    "duration": 944,
    "start_time": "2024-05-16T12:56:36.241Z"
   },
   {
    "duration": 777,
    "start_time": "2024-05-16T12:56:37.188Z"
   },
   {
    "duration": 11,
    "start_time": "2024-05-16T12:56:37.968Z"
   },
   {
    "duration": 1453,
    "start_time": "2024-05-16T12:56:37.982Z"
   },
   {
    "duration": 311,
    "start_time": "2024-05-16T12:56:39.438Z"
   },
   {
    "duration": 1094,
    "start_time": "2024-05-16T12:56:39.752Z"
   },
   {
    "duration": 754,
    "start_time": "2024-05-16T12:56:40.849Z"
   },
   {
    "duration": 10,
    "start_time": "2024-05-16T12:56:41.606Z"
   },
   {
    "duration": 1169,
    "start_time": "2024-05-16T12:56:41.622Z"
   },
   {
    "duration": 831,
    "start_time": "2024-05-16T12:56:42.794Z"
   },
   {
    "duration": 1778,
    "start_time": "2024-05-16T12:56:43.628Z"
   },
   {
    "duration": 2226,
    "start_time": "2024-05-16T12:56:45.409Z"
   },
   {
    "duration": 1032,
    "start_time": "2024-05-16T12:56:47.638Z"
   },
   {
    "duration": 823,
    "start_time": "2024-05-16T12:56:48.673Z"
   },
   {
    "duration": 6,
    "start_time": "2024-05-16T12:56:49.508Z"
   },
   {
    "duration": 1412,
    "start_time": "2024-05-16T12:57:04.686Z"
   },
   {
    "duration": 9,
    "start_time": "2024-05-16T12:58:06.803Z"
   },
   {
    "duration": 5,
    "start_time": "2024-05-16T12:58:18.326Z"
   },
   {
    "duration": 1799,
    "start_time": "2024-05-16T12:58:26.862Z"
   },
   {
    "duration": 273,
    "start_time": "2024-05-16T12:59:37.593Z"
   },
   {
    "duration": 33605,
    "start_time": "2024-05-16T13:00:03.424Z"
   },
   {
    "duration": 295,
    "start_time": "2024-05-16T13:01:08.605Z"
   },
   {
    "duration": 2521,
    "start_time": "2024-05-16T13:01:26.300Z"
   },
   {
    "duration": 1466,
    "start_time": "2024-05-16T13:02:29.331Z"
   },
   {
    "duration": 1455,
    "start_time": "2024-05-16T13:04:33.153Z"
   },
   {
    "duration": 1485,
    "start_time": "2024-05-16T13:14:19.840Z"
   },
   {
    "duration": 1572,
    "start_time": "2024-05-16T13:14:27.873Z"
   },
   {
    "duration": 1628,
    "start_time": "2024-05-16T13:15:18.801Z"
   },
   {
    "duration": 1471,
    "start_time": "2024-05-16T13:15:32.204Z"
   },
   {
    "duration": 192,
    "start_time": "2024-05-16T13:28:02.230Z"
   },
   {
    "duration": 2112,
    "start_time": "2024-05-16T13:28:53.329Z"
   },
   {
    "duration": 329,
    "start_time": "2024-05-16T22:08:35.664Z"
   },
   {
    "duration": 4579,
    "start_time": "2024-05-16T22:08:38.856Z"
   },
   {
    "duration": 1788,
    "start_time": "2024-05-16T22:08:43.438Z"
   },
   {
    "duration": 19,
    "start_time": "2024-05-16T22:08:45.229Z"
   },
   {
    "duration": 17,
    "start_time": "2024-05-16T22:08:45.253Z"
   },
   {
    "duration": 53,
    "start_time": "2024-05-16T22:08:45.273Z"
   },
   {
    "duration": 16,
    "start_time": "2024-05-16T22:08:45.329Z"
   },
   {
    "duration": 40,
    "start_time": "2024-05-16T22:08:45.348Z"
   },
   {
    "duration": 376,
    "start_time": "2024-05-16T22:08:45.428Z"
   },
   {
    "duration": 37,
    "start_time": "2024-05-16T22:08:45.808Z"
   },
   {
    "duration": 210,
    "start_time": "2024-05-16T22:08:45.851Z"
   },
   {
    "duration": 179,
    "start_time": "2024-05-16T22:08:46.064Z"
   },
   {
    "duration": 133,
    "start_time": "2024-05-16T22:08:46.246Z"
   },
   {
    "duration": 25,
    "start_time": "2024-05-16T22:08:46.382Z"
   },
   {
    "duration": 7,
    "start_time": "2024-05-16T22:08:46.426Z"
   },
   {
    "duration": 40,
    "start_time": "2024-05-16T22:08:46.436Z"
   },
   {
    "duration": 56,
    "start_time": "2024-05-16T22:08:46.479Z"
   },
   {
    "duration": 6,
    "start_time": "2024-05-16T22:08:46.539Z"
   },
   {
    "duration": 8,
    "start_time": "2024-05-16T22:08:46.548Z"
   },
   {
    "duration": 7,
    "start_time": "2024-05-16T22:08:46.559Z"
   },
   {
    "duration": 7,
    "start_time": "2024-05-16T22:08:46.569Z"
   },
   {
    "duration": 1427,
    "start_time": "2024-05-16T22:08:46.626Z"
   },
   {
    "duration": 352,
    "start_time": "2024-05-16T22:08:48.057Z"
   },
   {
    "duration": 35,
    "start_time": "2024-05-16T22:08:48.412Z"
   },
   {
    "duration": 12,
    "start_time": "2024-05-16T22:08:48.450Z"
   },
   {
    "duration": 13,
    "start_time": "2024-05-16T22:08:48.466Z"
   },
   {
    "duration": 48,
    "start_time": "2024-05-16T22:08:48.482Z"
   },
   {
    "duration": 16,
    "start_time": "2024-05-16T22:08:48.532Z"
   },
   {
    "duration": 10,
    "start_time": "2024-05-16T22:08:48.559Z"
   },
   {
    "duration": 8,
    "start_time": "2024-05-16T22:08:48.572Z"
   },
   {
    "duration": 36,
    "start_time": "2024-05-16T22:08:48.625Z"
   },
   {
    "duration": 77,
    "start_time": "2024-05-16T22:08:48.664Z"
   },
   {
    "duration": 41,
    "start_time": "2024-05-16T22:08:48.744Z"
   },
   {
    "duration": 46,
    "start_time": "2024-05-16T22:08:48.789Z"
   },
   {
    "duration": 58,
    "start_time": "2024-05-16T22:08:48.838Z"
   },
   {
    "duration": 31,
    "start_time": "2024-05-16T22:08:48.928Z"
   },
   {
    "duration": 32,
    "start_time": "2024-05-16T22:08:48.965Z"
   },
   {
    "duration": 378,
    "start_time": "2024-05-16T22:08:49.027Z"
   },
   {
    "duration": 247,
    "start_time": "2024-05-16T22:08:49.409Z"
   },
   {
    "duration": 12,
    "start_time": "2024-05-16T22:08:49.659Z"
   },
   {
    "duration": 22,
    "start_time": "2024-05-16T22:08:49.674Z"
   },
   {
    "duration": 25,
    "start_time": "2024-05-16T22:08:49.728Z"
   },
   {
    "duration": 504,
    "start_time": "2024-05-16T22:08:49.756Z"
   },
   {
    "duration": 95,
    "start_time": "2024-05-16T22:08:50.263Z"
   },
   {
    "duration": 356,
    "start_time": "2024-05-16T22:08:50.361Z"
   },
   {
    "duration": 1008,
    "start_time": "2024-05-16T22:08:50.728Z"
   },
   {
    "duration": 781,
    "start_time": "2024-05-16T22:08:51.740Z"
   },
   {
    "duration": 12,
    "start_time": "2024-05-16T22:08:52.528Z"
   },
   {
    "duration": 1594,
    "start_time": "2024-05-16T22:08:52.544Z"
   },
   {
    "duration": 325,
    "start_time": "2024-05-16T22:08:54.141Z"
   },
   {
    "duration": 1574,
    "start_time": "2024-05-16T22:08:54.469Z"
   },
   {
    "duration": 1009,
    "start_time": "2024-05-16T22:08:56.046Z"
   },
   {
    "duration": 816,
    "start_time": "2024-05-16T22:08:57.058Z"
   },
   {
    "duration": 11,
    "start_time": "2024-05-16T22:08:57.878Z"
   },
   {
    "duration": 1164,
    "start_time": "2024-05-16T22:08:57.892Z"
   },
   {
    "duration": 806,
    "start_time": "2024-05-16T22:08:59.060Z"
   },
   {
    "duration": 1764,
    "start_time": "2024-05-16T22:08:59.870Z"
   },
   {
    "duration": 230,
    "start_time": "2024-05-16T22:09:01.637Z"
   },
   {
    "duration": 222,
    "start_time": "2024-05-16T22:12:28.259Z"
   },
   {
    "duration": 76,
    "start_time": "2024-05-16T22:26:10.038Z"
   },
   {
    "duration": 1153,
    "start_time": "2024-05-16T22:26:22.598Z"
   },
   {
    "duration": 24,
    "start_time": "2024-05-16T22:26:29.794Z"
   },
   {
    "duration": 964,
    "start_time": "2024-05-16T22:28:13.846Z"
   },
   {
    "duration": 474,
    "start_time": "2024-05-16T23:33:13.275Z"
   },
   {
    "duration": 37,
    "start_time": "2024-05-16T23:33:29.987Z"
   },
   {
    "duration": 4,
    "start_time": "2024-05-16T23:33:54.800Z"
   },
   {
    "duration": 1561,
    "start_time": "2024-05-16T23:33:54.810Z"
   },
   {
    "duration": 18,
    "start_time": "2024-05-16T23:33:56.374Z"
   },
   {
    "duration": 38,
    "start_time": "2024-05-16T23:33:56.395Z"
   },
   {
    "duration": 15,
    "start_time": "2024-05-16T23:33:56.439Z"
   },
   {
    "duration": 15,
    "start_time": "2024-05-16T23:33:56.458Z"
   },
   {
    "duration": 77,
    "start_time": "2024-05-16T23:33:56.475Z"
   },
   {
    "duration": 346,
    "start_time": "2024-05-16T23:33:56.555Z"
   },
   {
    "duration": 30,
    "start_time": "2024-05-16T23:33:56.904Z"
   },
   {
    "duration": 198,
    "start_time": "2024-05-16T23:33:56.937Z"
   },
   {
    "duration": 189,
    "start_time": "2024-05-16T23:33:57.138Z"
   },
   {
    "duration": 141,
    "start_time": "2024-05-16T23:33:57.330Z"
   },
   {
    "duration": 29,
    "start_time": "2024-05-16T23:33:57.475Z"
   },
   {
    "duration": 24,
    "start_time": "2024-05-16T23:33:57.512Z"
   },
   {
    "duration": 41,
    "start_time": "2024-05-16T23:33:57.549Z"
   },
   {
    "duration": 48,
    "start_time": "2024-05-16T23:33:57.594Z"
   },
   {
    "duration": 6,
    "start_time": "2024-05-16T23:33:57.645Z"
   },
   {
    "duration": 7,
    "start_time": "2024-05-16T23:33:57.654Z"
   },
   {
    "duration": 6,
    "start_time": "2024-05-16T23:33:57.665Z"
   },
   {
    "duration": 7,
    "start_time": "2024-05-16T23:33:57.674Z"
   },
   {
    "duration": 1429,
    "start_time": "2024-05-16T23:33:57.728Z"
   },
   {
    "duration": 386,
    "start_time": "2024-05-16T23:33:59.160Z"
   },
   {
    "duration": 23,
    "start_time": "2024-05-16T23:33:59.549Z"
   },
   {
    "duration": 11,
    "start_time": "2024-05-16T23:33:59.575Z"
   },
   {
    "duration": 43,
    "start_time": "2024-05-16T23:33:59.589Z"
   },
   {
    "duration": 12,
    "start_time": "2024-05-16T23:33:59.636Z"
   },
   {
    "duration": 15,
    "start_time": "2024-05-16T23:33:59.652Z"
   },
   {
    "duration": 57,
    "start_time": "2024-05-16T23:33:59.670Z"
   },
   {
    "duration": 9,
    "start_time": "2024-05-16T23:33:59.731Z"
   },
   {
    "duration": 33,
    "start_time": "2024-05-16T23:33:59.744Z"
   },
   {
    "duration": 94,
    "start_time": "2024-05-16T23:33:59.780Z"
   },
   {
    "duration": 71,
    "start_time": "2024-05-16T23:33:59.877Z"
   },
   {
    "duration": 20,
    "start_time": "2024-05-16T23:33:59.951Z"
   },
   {
    "duration": 89,
    "start_time": "2024-05-16T23:33:59.975Z"
   },
   {
    "duration": 26,
    "start_time": "2024-05-16T23:34:00.068Z"
   },
   {
    "duration": 50,
    "start_time": "2024-05-16T23:34:00.096Z"
   },
   {
    "duration": 352,
    "start_time": "2024-05-16T23:34:00.150Z"
   },
   {
    "duration": 240,
    "start_time": "2024-05-16T23:34:00.504Z"
   },
   {
    "duration": 11,
    "start_time": "2024-05-16T23:34:00.747Z"
   },
   {
    "duration": 22,
    "start_time": "2024-05-16T23:34:00.761Z"
   },
   {
    "duration": 23,
    "start_time": "2024-05-16T23:34:00.826Z"
   },
   {
    "duration": 465,
    "start_time": "2024-05-16T23:34:00.852Z"
   },
   {
    "duration": 69,
    "start_time": "2024-05-16T23:34:01.327Z"
   },
   {
    "duration": 415,
    "start_time": "2024-05-16T23:34:01.401Z"
   },
   {
    "duration": 899,
    "start_time": "2024-05-16T23:34:01.827Z"
   },
   {
    "duration": 759,
    "start_time": "2024-05-16T23:34:02.729Z"
   },
   {
    "duration": 13,
    "start_time": "2024-05-16T23:34:03.490Z"
   },
   {
    "duration": 1542,
    "start_time": "2024-05-16T23:34:03.506Z"
   },
   {
    "duration": 331,
    "start_time": "2024-05-16T23:34:05.052Z"
   },
   {
    "duration": 1527,
    "start_time": "2024-05-16T23:34:05.386Z"
   },
   {
    "duration": 969,
    "start_time": "2024-05-16T23:34:06.916Z"
   },
   {
    "duration": 779,
    "start_time": "2024-05-16T23:34:07.888Z"
   },
   {
    "duration": 13,
    "start_time": "2024-05-16T23:34:08.670Z"
   },
   {
    "duration": 1145,
    "start_time": "2024-05-16T23:34:08.686Z"
   },
   {
    "duration": 790,
    "start_time": "2024-05-16T23:34:09.833Z"
   },
   {
    "duration": 1800,
    "start_time": "2024-05-16T23:34:10.626Z"
   },
   {
    "duration": 221,
    "start_time": "2024-05-16T23:34:12.430Z"
   },
   {
    "duration": 1112,
    "start_time": "2024-05-16T23:34:12.654Z"
   },
   {
    "duration": 205,
    "start_time": "2024-05-16T23:35:31.064Z"
   },
   {
    "duration": 95,
    "start_time": "2024-05-16T23:35:58.586Z"
   },
   {
    "duration": 102,
    "start_time": "2024-05-16T23:36:32.458Z"
   },
   {
    "duration": 336,
    "start_time": "2024-05-16T23:37:48.869Z"
   },
   {
    "duration": 211,
    "start_time": "2024-05-16T23:38:11.154Z"
   },
   {
    "duration": 33,
    "start_time": "2024-05-16T23:39:54.281Z"
   },
   {
    "duration": 212,
    "start_time": "2024-05-16T23:39:59.174Z"
   },
   {
    "duration": 229,
    "start_time": "2024-05-16T23:40:17.716Z"
   },
   {
    "duration": 206,
    "start_time": "2024-05-16T23:40:37.546Z"
   },
   {
    "duration": 1597,
    "start_time": "2024-05-16T23:43:48.217Z"
   },
   {
    "duration": 27,
    "start_time": "2024-05-16T23:44:12.379Z"
   },
   {
    "duration": 215,
    "start_time": "2024-05-16T23:45:09.677Z"
   },
   {
    "duration": 492,
    "start_time": "2024-05-16T23:45:17.955Z"
   },
   {
    "duration": 400,
    "start_time": "2024-05-16T23:47:01.833Z"
   },
   {
    "duration": 413,
    "start_time": "2024-05-16T23:49:46.130Z"
   },
   {
    "duration": 236,
    "start_time": "2024-05-16T23:56:20.344Z"
   },
   {
    "duration": 242,
    "start_time": "2024-05-16T23:58:15.489Z"
   },
   {
    "duration": 244,
    "start_time": "2024-05-16T23:58:25.375Z"
   },
   {
    "duration": 766,
    "start_time": "2024-05-17T00:00:17.896Z"
   },
   {
    "duration": 1647,
    "start_time": "2024-05-17T00:00:18.667Z"
   },
   {
    "duration": 23,
    "start_time": "2024-05-17T00:00:20.318Z"
   },
   {
    "duration": 18,
    "start_time": "2024-05-17T00:00:20.346Z"
   },
   {
    "duration": 15,
    "start_time": "2024-05-17T00:00:20.368Z"
   },
   {
    "duration": 16,
    "start_time": "2024-05-17T00:00:20.426Z"
   },
   {
    "duration": 41,
    "start_time": "2024-05-17T00:00:20.444Z"
   },
   {
    "duration": 423,
    "start_time": "2024-05-17T00:00:20.489Z"
   },
   {
    "duration": 23,
    "start_time": "2024-05-17T00:00:20.925Z"
   },
   {
    "duration": 254,
    "start_time": "2024-05-17T00:00:20.956Z"
   },
   {
    "duration": 213,
    "start_time": "2024-05-17T00:00:21.214Z"
   },
   {
    "duration": 141,
    "start_time": "2024-05-17T00:00:21.431Z"
   },
   {
    "duration": 26,
    "start_time": "2024-05-17T00:00:21.576Z"
   },
   {
    "duration": 28,
    "start_time": "2024-05-17T00:00:21.604Z"
   },
   {
    "duration": 38,
    "start_time": "2024-05-17T00:00:21.635Z"
   },
   {
    "duration": 56,
    "start_time": "2024-05-17T00:00:21.676Z"
   },
   {
    "duration": 6,
    "start_time": "2024-05-17T00:00:21.736Z"
   },
   {
    "duration": 8,
    "start_time": "2024-05-17T00:00:21.745Z"
   },
   {
    "duration": 7,
    "start_time": "2024-05-17T00:00:21.757Z"
   },
   {
    "duration": 7,
    "start_time": "2024-05-17T00:00:21.767Z"
   },
   {
    "duration": 1490,
    "start_time": "2024-05-17T00:00:21.828Z"
   },
   {
    "duration": 389,
    "start_time": "2024-05-17T00:00:23.328Z"
   },
   {
    "duration": 24,
    "start_time": "2024-05-17T00:00:23.728Z"
   },
   {
    "duration": 11,
    "start_time": "2024-05-17T00:00:23.756Z"
   },
   {
    "duration": 11,
    "start_time": "2024-05-17T00:00:23.770Z"
   },
   {
    "duration": 13,
    "start_time": "2024-05-17T00:00:23.825Z"
   },
   {
    "duration": 13,
    "start_time": "2024-05-17T00:00:23.842Z"
   },
   {
    "duration": 11,
    "start_time": "2024-05-17T00:00:23.866Z"
   },
   {
    "duration": 52,
    "start_time": "2024-05-17T00:00:23.880Z"
   },
   {
    "duration": 32,
    "start_time": "2024-05-17T00:00:23.936Z"
   },
   {
    "duration": 88,
    "start_time": "2024-05-17T00:00:23.971Z"
   },
   {
    "duration": 42,
    "start_time": "2024-05-17T00:00:24.062Z"
   },
   {
    "duration": 20,
    "start_time": "2024-05-17T00:00:24.126Z"
   },
   {
    "duration": 85,
    "start_time": "2024-05-17T00:00:24.150Z"
   },
   {
    "duration": 27,
    "start_time": "2024-05-17T00:00:24.238Z"
   },
   {
    "duration": 60,
    "start_time": "2024-05-17T00:00:24.268Z"
   },
   {
    "duration": 386,
    "start_time": "2024-05-17T00:00:24.331Z"
   },
   {
    "duration": 235,
    "start_time": "2024-05-17T00:00:24.726Z"
   },
   {
    "duration": 12,
    "start_time": "2024-05-17T00:00:24.964Z"
   },
   {
    "duration": 51,
    "start_time": "2024-05-17T00:00:24.979Z"
   },
   {
    "duration": 25,
    "start_time": "2024-05-17T00:00:25.033Z"
   },
   {
    "duration": 485,
    "start_time": "2024-05-17T00:00:25.062Z"
   },
   {
    "duration": 275,
    "start_time": "2024-05-17T00:00:25.550Z"
   },
   {
    "duration": 739,
    "start_time": "2024-05-17T00:05:15.504Z"
   },
   {
    "duration": 1774,
    "start_time": "2024-05-17T00:05:16.247Z"
   },
   {
    "duration": 23,
    "start_time": "2024-05-17T00:05:18.025Z"
   },
   {
    "duration": 17,
    "start_time": "2024-05-17T00:05:18.052Z"
   },
   {
    "duration": 14,
    "start_time": "2024-05-17T00:05:18.074Z"
   },
   {
    "duration": 16,
    "start_time": "2024-05-17T00:05:18.128Z"
   },
   {
    "duration": 40,
    "start_time": "2024-05-17T00:05:18.148Z"
   },
   {
    "duration": 425,
    "start_time": "2024-05-17T00:05:18.191Z"
   },
   {
    "duration": 23,
    "start_time": "2024-05-17T00:05:18.626Z"
   },
   {
    "duration": 270,
    "start_time": "2024-05-17T00:05:18.651Z"
   },
   {
    "duration": 203,
    "start_time": "2024-05-17T00:05:18.928Z"
   },
   {
    "duration": 145,
    "start_time": "2024-05-17T00:05:19.134Z"
   },
   {
    "duration": 43,
    "start_time": "2024-05-17T00:05:19.283Z"
   },
   {
    "duration": 7,
    "start_time": "2024-05-17T00:05:19.334Z"
   },
   {
    "duration": 41,
    "start_time": "2024-05-17T00:05:19.347Z"
   },
   {
    "duration": 61,
    "start_time": "2024-05-17T00:05:19.391Z"
   },
   {
    "duration": 9,
    "start_time": "2024-05-17T00:05:19.456Z"
   },
   {
    "duration": 8,
    "start_time": "2024-05-17T00:05:19.468Z"
   },
   {
    "duration": 47,
    "start_time": "2024-05-17T00:05:19.480Z"
   },
   {
    "duration": 8,
    "start_time": "2024-05-17T00:05:19.531Z"
   },
   {
    "duration": 1506,
    "start_time": "2024-05-17T00:05:19.543Z"
   },
   {
    "duration": 388,
    "start_time": "2024-05-17T00:05:21.054Z"
   },
   {
    "duration": 27,
    "start_time": "2024-05-17T00:05:21.444Z"
   },
   {
    "duration": 12,
    "start_time": "2024-05-17T00:05:21.474Z"
   },
   {
    "duration": 44,
    "start_time": "2024-05-17T00:05:21.489Z"
   },
   {
    "duration": 12,
    "start_time": "2024-05-17T00:05:21.537Z"
   },
   {
    "duration": 13,
    "start_time": "2024-05-17T00:05:21.553Z"
   },
   {
    "duration": 56,
    "start_time": "2024-05-17T00:05:21.570Z"
   },
   {
    "duration": 9,
    "start_time": "2024-05-17T00:05:21.630Z"
   },
   {
    "duration": 34,
    "start_time": "2024-05-17T00:05:21.642Z"
   },
   {
    "duration": 91,
    "start_time": "2024-05-17T00:05:21.679Z"
   },
   {
    "duration": 67,
    "start_time": "2024-05-17T00:05:21.773Z"
   },
   {
    "duration": 23,
    "start_time": "2024-05-17T00:05:21.844Z"
   },
   {
    "duration": 94,
    "start_time": "2024-05-17T00:05:21.871Z"
   },
   {
    "duration": 27,
    "start_time": "2024-05-17T00:05:21.968Z"
   },
   {
    "duration": 51,
    "start_time": "2024-05-17T00:05:21.998Z"
   },
   {
    "duration": 389,
    "start_time": "2024-05-17T00:05:22.053Z"
   },
   {
    "duration": 231,
    "start_time": "2024-05-17T00:05:22.446Z"
   },
   {
    "duration": 11,
    "start_time": "2024-05-17T00:05:22.680Z"
   },
   {
    "duration": 45,
    "start_time": "2024-05-17T00:05:22.694Z"
   },
   {
    "duration": 25,
    "start_time": "2024-05-17T00:05:22.747Z"
   },
   {
    "duration": 456,
    "start_time": "2024-05-17T00:05:22.776Z"
   },
   {
    "duration": 83,
    "start_time": "2024-05-17T00:05:38.963Z"
   },
   {
    "duration": 359,
    "start_time": "2024-05-17T00:05:47.561Z"
   },
   {
    "duration": 1028,
    "start_time": "2024-05-17T00:06:24.104Z"
   },
   {
    "duration": 783,
    "start_time": "2024-05-17T00:07:25.061Z"
   },
   {
    "duration": 10,
    "start_time": "2024-05-17T00:07:38.763Z"
   },
   {
    "duration": 359,
    "start_time": "2024-05-17T00:07:52.390Z"
   },
   {
    "duration": 25,
    "start_time": "2024-05-17T00:07:55.337Z"
   },
   {
    "duration": 1140,
    "start_time": "2024-05-17T00:07:57.195Z"
   },
   {
    "duration": 317,
    "start_time": "2024-05-17T00:08:00.852Z"
   },
   {
    "duration": 511,
    "start_time": "2024-05-17T00:08:09.663Z"
   },
   {
    "duration": 1140,
    "start_time": "2024-05-17T00:08:20.793Z"
   },
   {
    "duration": 973,
    "start_time": "2024-05-17T00:08:33.998Z"
   },
   {
    "duration": 785,
    "start_time": "2024-05-17T00:08:41.416Z"
   },
   {
    "duration": 769,
    "start_time": "2024-05-17T00:09:03.705Z"
   },
   {
    "duration": 6,
    "start_time": "2024-05-17T00:09:15.294Z"
   },
   {
    "duration": 810,
    "start_time": "2024-05-17T00:09:39.431Z"
   },
   {
    "duration": 10,
    "start_time": "2024-05-17T00:09:43.132Z"
   },
   {
    "duration": 793,
    "start_time": "2024-05-17T00:12:46.964Z"
   },
   {
    "duration": 1945,
    "start_time": "2024-05-17T00:17:57.028Z"
   },
   {
    "duration": 209,
    "start_time": "2024-05-17T00:18:03.964Z"
   },
   {
    "duration": 9,
    "start_time": "2024-05-17T00:22:42.040Z"
   },
   {
    "duration": 10,
    "start_time": "2024-05-17T00:22:47.192Z"
   },
   {
    "duration": 940,
    "start_time": "2024-05-17T00:23:39.290Z"
   },
   {
    "duration": 16,
    "start_time": "2024-05-17T00:23:54.520Z"
   },
   {
    "duration": 313,
    "start_time": "2024-05-17T03:59:59.934Z"
   },
   {
    "duration": 22,
    "start_time": "2024-05-17T04:00:33.521Z"
   },
   {
    "duration": 21,
    "start_time": "2024-05-17T04:00:38.449Z"
   },
   {
    "duration": 4639,
    "start_time": "2024-05-17T04:00:42.668Z"
   },
   {
    "duration": 1759,
    "start_time": "2024-05-17T04:00:47.311Z"
   },
   {
    "duration": 19,
    "start_time": "2024-05-17T04:00:49.073Z"
   },
   {
    "duration": 15,
    "start_time": "2024-05-17T04:00:49.108Z"
   },
   {
    "duration": 15,
    "start_time": "2024-05-17T04:00:49.126Z"
   },
   {
    "duration": 14,
    "start_time": "2024-05-17T04:00:49.144Z"
   },
   {
    "duration": 83,
    "start_time": "2024-05-17T04:00:49.160Z"
   },
   {
    "duration": 343,
    "start_time": "2024-05-17T04:00:49.247Z"
   },
   {
    "duration": 27,
    "start_time": "2024-05-17T04:00:49.593Z"
   },
   {
    "duration": 208,
    "start_time": "2024-05-17T04:00:49.626Z"
   },
   {
    "duration": 169,
    "start_time": "2024-05-17T04:00:49.839Z"
   },
   {
    "duration": 125,
    "start_time": "2024-05-17T04:00:50.011Z"
   },
   {
    "duration": 24,
    "start_time": "2024-05-17T04:00:50.139Z"
   },
   {
    "duration": 7,
    "start_time": "2024-05-17T04:00:50.166Z"
   },
   {
    "duration": 65,
    "start_time": "2024-05-17T04:00:50.176Z"
   },
   {
    "duration": 23,
    "start_time": "2024-05-17T04:00:50.243Z"
   },
   {
    "duration": 6,
    "start_time": "2024-05-17T04:00:50.271Z"
   },
   {
    "duration": 8,
    "start_time": "2024-05-17T04:00:50.310Z"
   },
   {
    "duration": 7,
    "start_time": "2024-05-17T04:00:50.321Z"
   },
   {
    "duration": 9,
    "start_time": "2024-05-17T04:00:50.332Z"
   },
   {
    "duration": 1377,
    "start_time": "2024-05-17T04:00:50.345Z"
   },
   {
    "duration": 331,
    "start_time": "2024-05-17T04:00:51.725Z"
   },
   {
    "duration": 24,
    "start_time": "2024-05-17T04:00:52.058Z"
   },
   {
    "duration": 29,
    "start_time": "2024-05-17T04:00:52.086Z"
   },
   {
    "duration": 10,
    "start_time": "2024-05-17T04:00:52.118Z"
   },
   {
    "duration": 10,
    "start_time": "2024-05-17T04:00:52.131Z"
   },
   {
    "duration": 13,
    "start_time": "2024-05-17T04:00:52.144Z"
   },
   {
    "duration": 10,
    "start_time": "2024-05-17T04:00:52.214Z"
   },
   {
    "duration": 9,
    "start_time": "2024-05-17T04:00:52.227Z"
   },
   {
    "duration": 31,
    "start_time": "2024-05-17T04:00:52.239Z"
   },
   {
    "duration": 49,
    "start_time": "2024-05-17T04:00:52.308Z"
   },
   {
    "duration": 60,
    "start_time": "2024-05-17T04:00:52.360Z"
   },
   {
    "duration": 20,
    "start_time": "2024-05-17T04:00:52.423Z"
   },
   {
    "duration": 88,
    "start_time": "2024-05-17T04:00:52.447Z"
   },
   {
    "duration": 29,
    "start_time": "2024-05-17T04:00:52.540Z"
   },
   {
    "duration": 55,
    "start_time": "2024-05-17T04:00:52.572Z"
   },
   {
    "duration": 362,
    "start_time": "2024-05-17T04:00:52.630Z"
   },
   {
    "duration": 221,
    "start_time": "2024-05-17T04:00:52.995Z"
   },
   {
    "duration": 10,
    "start_time": "2024-05-17T04:00:53.219Z"
   },
   {
    "duration": 21,
    "start_time": "2024-05-17T04:00:53.233Z"
   },
   {
    "duration": 60,
    "start_time": "2024-05-17T04:00:53.257Z"
   },
   {
    "duration": 445,
    "start_time": "2024-05-17T04:00:53.320Z"
   },
   {
    "duration": 81,
    "start_time": "2024-05-17T04:00:53.769Z"
   },
   {
    "duration": 337,
    "start_time": "2024-05-17T04:00:53.853Z"
   },
   {
    "duration": 987,
    "start_time": "2024-05-17T04:00:54.193Z"
   },
   {
    "duration": 792,
    "start_time": "2024-05-17T04:00:55.182Z"
   },
   {
    "duration": 10,
    "start_time": "2024-05-17T04:00:55.977Z"
   },
   {
    "duration": 1469,
    "start_time": "2024-05-17T04:00:55.990Z"
   },
   {
    "duration": 300,
    "start_time": "2024-05-17T04:00:57.462Z"
   },
   {
    "duration": 1496,
    "start_time": "2024-05-17T04:00:57.765Z"
   },
   {
    "duration": 991,
    "start_time": "2024-05-17T04:00:59.265Z"
   },
   {
    "duration": 782,
    "start_time": "2024-05-17T04:01:00.259Z"
   },
   {
    "duration": 11,
    "start_time": "2024-05-17T04:01:01.044Z"
   },
   {
    "duration": 1166,
    "start_time": "2024-05-17T04:01:01.057Z"
   },
   {
    "duration": 839,
    "start_time": "2024-05-17T04:01:02.226Z"
   },
   {
    "duration": 22,
    "start_time": "2024-05-17T04:01:50.028Z"
   },
   {
    "duration": 311,
    "start_time": "2024-05-19T01:03:13.638Z"
   },
   {
    "duration": 4319,
    "start_time": "2024-05-19T01:03:18.775Z"
   },
   {
    "duration": 2275,
    "start_time": "2024-05-19T01:03:23.097Z"
   },
   {
    "duration": 20,
    "start_time": "2024-05-19T01:03:25.376Z"
   },
   {
    "duration": 18,
    "start_time": "2024-05-19T01:03:25.404Z"
   },
   {
    "duration": 14,
    "start_time": "2024-05-19T01:03:25.426Z"
   },
   {
    "duration": 16,
    "start_time": "2024-05-19T01:03:25.443Z"
   },
   {
    "duration": 84,
    "start_time": "2024-05-19T01:03:25.462Z"
   },
   {
    "duration": 364,
    "start_time": "2024-05-19T01:03:25.550Z"
   },
   {
    "duration": 28,
    "start_time": "2024-05-19T01:03:25.918Z"
   },
   {
    "duration": 269,
    "start_time": "2024-05-19T01:03:25.951Z"
   },
   {
    "duration": 219,
    "start_time": "2024-05-19T01:03:26.224Z"
   },
   {
    "duration": 169,
    "start_time": "2024-05-19T01:03:26.448Z"
   },
   {
    "duration": 140,
    "start_time": "2024-05-19T01:03:30.190Z"
   },
   {
    "duration": 147,
    "start_time": "2024-05-19T01:04:46.939Z"
   },
   {
    "duration": 202,
    "start_time": "2024-05-19T01:05:08.856Z"
   },
   {
    "duration": 312,
    "start_time": "2024-05-19T01:05:19.637Z"
   },
   {
    "duration": 211,
    "start_time": "2024-05-19T01:06:18.579Z"
   },
   {
    "duration": 184,
    "start_time": "2024-05-19T01:06:40.672Z"
   },
   {
    "duration": 165,
    "start_time": "2024-05-19T01:06:48.585Z"
   },
   {
    "duration": 329,
    "start_time": "2024-05-19T01:06:54.823Z"
   },
   {
    "duration": 151,
    "start_time": "2024-05-19T01:07:45.138Z"
   },
   {
    "duration": 147,
    "start_time": "2024-05-19T01:07:52.747Z"
   },
   {
    "duration": 144,
    "start_time": "2024-05-19T01:12:14.760Z"
   },
   {
    "duration": 47,
    "start_time": "2024-05-19T01:12:44.966Z"
   },
   {
    "duration": 77,
    "start_time": "2024-05-19T01:15:06.150Z"
   },
   {
    "duration": 183,
    "start_time": "2024-05-19T01:15:18.149Z"
   },
   {
    "duration": 48,
    "start_time": "2024-05-19T01:15:21.651Z"
   },
   {
    "duration": 64,
    "start_time": "2024-05-19T01:17:38.727Z"
   },
   {
    "duration": 181,
    "start_time": "2024-05-19T01:18:10.046Z"
   },
   {
    "duration": 209,
    "start_time": "2024-05-19T01:18:36.277Z"
   },
   {
    "duration": 180,
    "start_time": "2024-05-19T01:18:49.505Z"
   },
   {
    "duration": 191,
    "start_time": "2024-05-19T01:19:08.931Z"
   },
   {
    "duration": 157,
    "start_time": "2024-05-19T01:19:16.899Z"
   },
   {
    "duration": 44,
    "start_time": "2024-05-19T01:19:21.286Z"
   },
   {
    "duration": 166,
    "start_time": "2024-05-19T01:23:03.766Z"
   },
   {
    "duration": 44,
    "start_time": "2024-05-19T01:23:18.574Z"
   },
   {
    "duration": 111,
    "start_time": "2024-05-19T01:25:23.206Z"
   },
   {
    "duration": 153,
    "start_time": "2024-05-19T01:25:35.626Z"
   },
   {
    "duration": 58,
    "start_time": "2024-05-19T01:25:37.736Z"
   },
   {
    "duration": 1264,
    "start_time": "2024-05-19T01:39:25.212Z"
   },
   {
    "duration": 30,
    "start_time": "2024-05-19T01:45:40.594Z"
   },
   {
    "duration": 27,
    "start_time": "2024-05-19T01:50:59.001Z"
   },
   {
    "duration": 8,
    "start_time": "2024-05-19T01:53:01.204Z"
   },
   {
    "duration": 7,
    "start_time": "2024-05-19T02:08:39.730Z"
   },
   {
    "duration": 379,
    "start_time": "2024-05-19T02:12:57.937Z"
   },
   {
    "duration": 213,
    "start_time": "2024-05-19T02:14:53.122Z"
   },
   {
    "duration": 260,
    "start_time": "2024-05-19T02:15:51.691Z"
   },
   {
    "duration": 222,
    "start_time": "2024-05-19T02:18:36.517Z"
   },
   {
    "duration": 217,
    "start_time": "2024-05-19T02:24:59.438Z"
   },
   {
    "duration": 223,
    "start_time": "2024-05-19T02:25:36.724Z"
   },
   {
    "duration": 261,
    "start_time": "2024-05-19T02:32:20.695Z"
   },
   {
    "duration": 221,
    "start_time": "2024-05-19T02:35:08.463Z"
   },
   {
    "duration": 228,
    "start_time": "2024-05-19T02:37:45.196Z"
   },
   {
    "duration": 400,
    "start_time": "2024-05-19T02:43:32.707Z"
   },
   {
    "duration": 214,
    "start_time": "2024-05-19T02:45:34.031Z"
   },
   {
    "duration": 309,
    "start_time": "2024-05-19T02:45:59.367Z"
   },
   {
    "duration": 211,
    "start_time": "2024-05-19T02:46:20.614Z"
   },
   {
    "duration": 7,
    "start_time": "2024-05-19T03:01:13.887Z"
   },
   {
    "duration": 30,
    "start_time": "2024-05-19T03:01:24.902Z"
   },
   {
    "duration": 31,
    "start_time": "2024-05-19T03:01:41.484Z"
   },
   {
    "duration": 4,
    "start_time": "2024-05-19T03:01:47.020Z"
   },
   {
    "duration": 1526,
    "start_time": "2024-05-19T03:01:47.028Z"
   },
   {
    "duration": 18,
    "start_time": "2024-05-19T03:01:48.556Z"
   },
   {
    "duration": 35,
    "start_time": "2024-05-19T03:01:48.577Z"
   },
   {
    "duration": 14,
    "start_time": "2024-05-19T03:01:48.616Z"
   },
   {
    "duration": 14,
    "start_time": "2024-05-19T03:01:48.633Z"
   },
   {
    "duration": 76,
    "start_time": "2024-05-19T03:01:48.650Z"
   },
   {
    "duration": 282,
    "start_time": "2024-05-19T03:01:48.729Z"
   },
   {
    "duration": 18,
    "start_time": "2024-05-19T03:01:49.015Z"
   },
   {
    "duration": 116,
    "start_time": "2024-05-19T03:01:49.036Z"
   },
   {
    "duration": 154,
    "start_time": "2024-05-19T03:01:49.156Z"
   },
   {
    "duration": 37,
    "start_time": "2024-05-19T03:01:49.312Z"
   },
   {
    "duration": 24,
    "start_time": "2024-05-19T03:01:49.352Z"
   },
   {
    "duration": 7,
    "start_time": "2024-05-19T03:01:49.408Z"
   },
   {
    "duration": 37,
    "start_time": "2024-05-19T03:01:49.418Z"
   },
   {
    "duration": 53,
    "start_time": "2024-05-19T03:01:49.458Z"
   },
   {
    "duration": 6,
    "start_time": "2024-05-19T03:01:49.513Z"
   },
   {
    "duration": 7,
    "start_time": "2024-05-19T03:01:49.523Z"
   },
   {
    "duration": 7,
    "start_time": "2024-05-19T03:01:49.533Z"
   },
   {
    "duration": 7,
    "start_time": "2024-05-19T03:01:49.544Z"
   },
   {
    "duration": 1228,
    "start_time": "2024-05-19T03:01:49.601Z"
   },
   {
    "duration": 273,
    "start_time": "2024-05-19T03:01:50.832Z"
   },
   {
    "duration": 22,
    "start_time": "2024-05-19T03:01:51.108Z"
   },
   {
    "duration": 11,
    "start_time": "2024-05-19T03:01:51.133Z"
   },
   {
    "duration": 11,
    "start_time": "2024-05-19T03:01:51.147Z"
   },
   {
    "duration": 10,
    "start_time": "2024-05-19T03:01:51.203Z"
   },
   {
    "duration": 15,
    "start_time": "2024-05-19T03:01:51.217Z"
   },
   {
    "duration": 11,
    "start_time": "2024-05-19T03:01:51.235Z"
   },
   {
    "duration": 54,
    "start_time": "2024-05-19T03:01:51.249Z"
   },
   {
    "duration": 30,
    "start_time": "2024-05-19T03:01:51.305Z"
   },
   {
    "duration": 83,
    "start_time": "2024-05-19T03:01:51.338Z"
   },
   {
    "duration": 44,
    "start_time": "2024-05-19T03:01:51.424Z"
   },
   {
    "duration": 49,
    "start_time": "2024-05-19T03:01:51.471Z"
   },
   {
    "duration": 83,
    "start_time": "2024-05-19T03:01:51.523Z"
   },
   {
    "duration": 28,
    "start_time": "2024-05-19T03:01:51.610Z"
   },
   {
    "duration": 30,
    "start_time": "2024-05-19T03:01:51.641Z"
   },
   {
    "duration": 341,
    "start_time": "2024-05-19T03:01:51.702Z"
   },
   {
    "duration": 221,
    "start_time": "2024-05-19T03:01:52.047Z"
   },
   {
    "duration": 278,
    "start_time": "2024-05-19T03:01:52.271Z"
   },
   {
    "duration": 21,
    "start_time": "2024-05-19T03:01:52.552Z"
   },
   {
    "duration": 37,
    "start_time": "2024-05-19T03:01:52.581Z"
   },
   {
    "duration": 433,
    "start_time": "2024-05-19T03:01:52.621Z"
   },
   {
    "duration": 84,
    "start_time": "2024-05-19T03:01:53.058Z"
   },
   {
    "duration": 339,
    "start_time": "2024-05-19T03:01:53.145Z"
   },
   {
    "duration": 960,
    "start_time": "2024-05-19T03:01:53.488Z"
   },
   {
    "duration": 761,
    "start_time": "2024-05-19T03:01:54.450Z"
   },
   {
    "duration": 60663,
    "start_time": "2024-05-19T03:02:01.847Z"
   },
   {
    "duration": 7,
    "start_time": "2024-05-19T03:04:13.651Z"
   },
   {
    "duration": 7,
    "start_time": "2024-05-19T03:04:55.687Z"
   },
   {
    "duration": 1856,
    "start_time": "2024-05-19T03:05:24.602Z"
   },
   {
    "duration": 386,
    "start_time": "2024-05-19T03:07:11.029Z"
   }
  ],
  "colab": {
   "provenance": []
  },
  "kernelspec": {
   "display_name": "Python 3 (ipykernel)",
   "language": "python",
   "name": "python3"
  },
  "language_info": {
   "codemirror_mode": {
    "name": "ipython",
    "version": 3
   },
   "file_extension": ".py",
   "mimetype": "text/x-python",
   "name": "python",
   "nbconvert_exporter": "python",
   "pygments_lexer": "ipython3",
   "version": "3.9.19"
  },
  "toc": {
   "base_numbering": 1,
   "nav_menu": {},
   "number_sections": true,
   "sideBar": true,
   "skip_h1_title": true,
   "title_cell": "Table of Contents",
   "title_sidebar": "Contents",
   "toc_cell": false,
   "toc_position": {},
   "toc_section_display": true,
   "toc_window_display": false
  },
  "vscode": {
   "interpreter": {
    "hash": "01a7be9ec63e704a62cefc5fe7a4756944464ee731be31632bdf42a4cb4688cf"
   }
  }
 },
 "nbformat": 4,
 "nbformat_minor": 5
}
